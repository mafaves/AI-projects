{
  "nbformat": 4,
  "nbformat_minor": 0,
  "metadata": {
    "colab": {
      "provenance": [],
      "gpuType": "A100",
      "machine_shape": "hm",
      "authorship_tag": "ABX9TyP+Zq9vzlTLio5G4F6BfK1e",
      "include_colab_link": true
    },
    "kernelspec": {
      "name": "python3",
      "display_name": "Python 3"
    },
    "language_info": {
      "name": "python"
    },
    "accelerator": "GPU",
    "widgets": {
      "application/vnd.jupyter.widget-state+json": {
        "0ace1ed30f36477ebb89aa0104b03360": {
          "model_module": "@jupyter-widgets/controls",
          "model_name": "HBoxModel",
          "model_module_version": "1.5.0",
          "state": {
            "_dom_classes": [],
            "_model_module": "@jupyter-widgets/controls",
            "_model_module_version": "1.5.0",
            "_model_name": "HBoxModel",
            "_view_count": null,
            "_view_module": "@jupyter-widgets/controls",
            "_view_module_version": "1.5.0",
            "_view_name": "HBoxView",
            "box_style": "",
            "children": [
              "IPY_MODEL_7225492c4d0f469e9953f22f02ac7a77",
              "IPY_MODEL_50111e0474414c09a77e18252126e649",
              "IPY_MODEL_49d55899820b4306877881cf5729a1c8"
            ],
            "layout": "IPY_MODEL_a460e4e238cb40499ecda9043e66ae28"
          }
        },
        "7225492c4d0f469e9953f22f02ac7a77": {
          "model_module": "@jupyter-widgets/controls",
          "model_name": "HTMLModel",
          "model_module_version": "1.5.0",
          "state": {
            "_dom_classes": [],
            "_model_module": "@jupyter-widgets/controls",
            "_model_module_version": "1.5.0",
            "_model_name": "HTMLModel",
            "_view_count": null,
            "_view_module": "@jupyter-widgets/controls",
            "_view_module_version": "1.5.0",
            "_view_name": "HTMLView",
            "description": "",
            "description_tooltip": null,
            "layout": "IPY_MODEL_bce8b8daf69d460aa87bf23b2d3a13a4",
            "placeholder": "​",
            "style": "IPY_MODEL_8c2ad6c2754f4640b877527128c8be26",
            "value": "100%"
          }
        },
        "50111e0474414c09a77e18252126e649": {
          "model_module": "@jupyter-widgets/controls",
          "model_name": "FloatProgressModel",
          "model_module_version": "1.5.0",
          "state": {
            "_dom_classes": [],
            "_model_module": "@jupyter-widgets/controls",
            "_model_module_version": "1.5.0",
            "_model_name": "FloatProgressModel",
            "_view_count": null,
            "_view_module": "@jupyter-widgets/controls",
            "_view_module_version": "1.5.0",
            "_view_name": "ProgressView",
            "bar_style": "success",
            "description": "",
            "description_tooltip": null,
            "layout": "IPY_MODEL_38d11964618c4adc925b78756586c1ba",
            "max": 3,
            "min": 0,
            "orientation": "horizontal",
            "style": "IPY_MODEL_29071a1b907848cf90740dc7f9fc00ce",
            "value": 3
          }
        },
        "49d55899820b4306877881cf5729a1c8": {
          "model_module": "@jupyter-widgets/controls",
          "model_name": "HTMLModel",
          "model_module_version": "1.5.0",
          "state": {
            "_dom_classes": [],
            "_model_module": "@jupyter-widgets/controls",
            "_model_module_version": "1.5.0",
            "_model_name": "HTMLModel",
            "_view_count": null,
            "_view_module": "@jupyter-widgets/controls",
            "_view_module_version": "1.5.0",
            "_view_name": "HTMLView",
            "description": "",
            "description_tooltip": null,
            "layout": "IPY_MODEL_fc1d40f3e4a94e29b43e59d5690e1c2b",
            "placeholder": "​",
            "style": "IPY_MODEL_c5aef07cce3545a3ae0a4f28ab89a708",
            "value": " 3/3 [13:47&lt;00:00, 277.44s/it]"
          }
        },
        "a460e4e238cb40499ecda9043e66ae28": {
          "model_module": "@jupyter-widgets/base",
          "model_name": "LayoutModel",
          "model_module_version": "1.2.0",
          "state": {
            "_model_module": "@jupyter-widgets/base",
            "_model_module_version": "1.2.0",
            "_model_name": "LayoutModel",
            "_view_count": null,
            "_view_module": "@jupyter-widgets/base",
            "_view_module_version": "1.2.0",
            "_view_name": "LayoutView",
            "align_content": null,
            "align_items": null,
            "align_self": null,
            "border": null,
            "bottom": null,
            "display": null,
            "flex": null,
            "flex_flow": null,
            "grid_area": null,
            "grid_auto_columns": null,
            "grid_auto_flow": null,
            "grid_auto_rows": null,
            "grid_column": null,
            "grid_gap": null,
            "grid_row": null,
            "grid_template_areas": null,
            "grid_template_columns": null,
            "grid_template_rows": null,
            "height": null,
            "justify_content": null,
            "justify_items": null,
            "left": null,
            "margin": null,
            "max_height": null,
            "max_width": null,
            "min_height": null,
            "min_width": null,
            "object_fit": null,
            "object_position": null,
            "order": null,
            "overflow": null,
            "overflow_x": null,
            "overflow_y": null,
            "padding": null,
            "right": null,
            "top": null,
            "visibility": null,
            "width": null
          }
        },
        "bce8b8daf69d460aa87bf23b2d3a13a4": {
          "model_module": "@jupyter-widgets/base",
          "model_name": "LayoutModel",
          "model_module_version": "1.2.0",
          "state": {
            "_model_module": "@jupyter-widgets/base",
            "_model_module_version": "1.2.0",
            "_model_name": "LayoutModel",
            "_view_count": null,
            "_view_module": "@jupyter-widgets/base",
            "_view_module_version": "1.2.0",
            "_view_name": "LayoutView",
            "align_content": null,
            "align_items": null,
            "align_self": null,
            "border": null,
            "bottom": null,
            "display": null,
            "flex": null,
            "flex_flow": null,
            "grid_area": null,
            "grid_auto_columns": null,
            "grid_auto_flow": null,
            "grid_auto_rows": null,
            "grid_column": null,
            "grid_gap": null,
            "grid_row": null,
            "grid_template_areas": null,
            "grid_template_columns": null,
            "grid_template_rows": null,
            "height": null,
            "justify_content": null,
            "justify_items": null,
            "left": null,
            "margin": null,
            "max_height": null,
            "max_width": null,
            "min_height": null,
            "min_width": null,
            "object_fit": null,
            "object_position": null,
            "order": null,
            "overflow": null,
            "overflow_x": null,
            "overflow_y": null,
            "padding": null,
            "right": null,
            "top": null,
            "visibility": null,
            "width": null
          }
        },
        "8c2ad6c2754f4640b877527128c8be26": {
          "model_module": "@jupyter-widgets/controls",
          "model_name": "DescriptionStyleModel",
          "model_module_version": "1.5.0",
          "state": {
            "_model_module": "@jupyter-widgets/controls",
            "_model_module_version": "1.5.0",
            "_model_name": "DescriptionStyleModel",
            "_view_count": null,
            "_view_module": "@jupyter-widgets/base",
            "_view_module_version": "1.2.0",
            "_view_name": "StyleView",
            "description_width": ""
          }
        },
        "38d11964618c4adc925b78756586c1ba": {
          "model_module": "@jupyter-widgets/base",
          "model_name": "LayoutModel",
          "model_module_version": "1.2.0",
          "state": {
            "_model_module": "@jupyter-widgets/base",
            "_model_module_version": "1.2.0",
            "_model_name": "LayoutModel",
            "_view_count": null,
            "_view_module": "@jupyter-widgets/base",
            "_view_module_version": "1.2.0",
            "_view_name": "LayoutView",
            "align_content": null,
            "align_items": null,
            "align_self": null,
            "border": null,
            "bottom": null,
            "display": null,
            "flex": null,
            "flex_flow": null,
            "grid_area": null,
            "grid_auto_columns": null,
            "grid_auto_flow": null,
            "grid_auto_rows": null,
            "grid_column": null,
            "grid_gap": null,
            "grid_row": null,
            "grid_template_areas": null,
            "grid_template_columns": null,
            "grid_template_rows": null,
            "height": null,
            "justify_content": null,
            "justify_items": null,
            "left": null,
            "margin": null,
            "max_height": null,
            "max_width": null,
            "min_height": null,
            "min_width": null,
            "object_fit": null,
            "object_position": null,
            "order": null,
            "overflow": null,
            "overflow_x": null,
            "overflow_y": null,
            "padding": null,
            "right": null,
            "top": null,
            "visibility": null,
            "width": null
          }
        },
        "29071a1b907848cf90740dc7f9fc00ce": {
          "model_module": "@jupyter-widgets/controls",
          "model_name": "ProgressStyleModel",
          "model_module_version": "1.5.0",
          "state": {
            "_model_module": "@jupyter-widgets/controls",
            "_model_module_version": "1.5.0",
            "_model_name": "ProgressStyleModel",
            "_view_count": null,
            "_view_module": "@jupyter-widgets/base",
            "_view_module_version": "1.2.0",
            "_view_name": "StyleView",
            "bar_color": null,
            "description_width": ""
          }
        },
        "fc1d40f3e4a94e29b43e59d5690e1c2b": {
          "model_module": "@jupyter-widgets/base",
          "model_name": "LayoutModel",
          "model_module_version": "1.2.0",
          "state": {
            "_model_module": "@jupyter-widgets/base",
            "_model_module_version": "1.2.0",
            "_model_name": "LayoutModel",
            "_view_count": null,
            "_view_module": "@jupyter-widgets/base",
            "_view_module_version": "1.2.0",
            "_view_name": "LayoutView",
            "align_content": null,
            "align_items": null,
            "align_self": null,
            "border": null,
            "bottom": null,
            "display": null,
            "flex": null,
            "flex_flow": null,
            "grid_area": null,
            "grid_auto_columns": null,
            "grid_auto_flow": null,
            "grid_auto_rows": null,
            "grid_column": null,
            "grid_gap": null,
            "grid_row": null,
            "grid_template_areas": null,
            "grid_template_columns": null,
            "grid_template_rows": null,
            "height": null,
            "justify_content": null,
            "justify_items": null,
            "left": null,
            "margin": null,
            "max_height": null,
            "max_width": null,
            "min_height": null,
            "min_width": null,
            "object_fit": null,
            "object_position": null,
            "order": null,
            "overflow": null,
            "overflow_x": null,
            "overflow_y": null,
            "padding": null,
            "right": null,
            "top": null,
            "visibility": null,
            "width": null
          }
        },
        "c5aef07cce3545a3ae0a4f28ab89a708": {
          "model_module": "@jupyter-widgets/controls",
          "model_name": "DescriptionStyleModel",
          "model_module_version": "1.5.0",
          "state": {
            "_model_module": "@jupyter-widgets/controls",
            "_model_module_version": "1.5.0",
            "_model_name": "DescriptionStyleModel",
            "_view_count": null,
            "_view_module": "@jupyter-widgets/base",
            "_view_module_version": "1.2.0",
            "_view_name": "StyleView",
            "description_width": ""
          }
        },
        "c96f0913818f4122ada370057b149a7f": {
          "model_module": "@jupyter-widgets/controls",
          "model_name": "HBoxModel",
          "model_module_version": "1.5.0",
          "state": {
            "_dom_classes": [],
            "_model_module": "@jupyter-widgets/controls",
            "_model_module_version": "1.5.0",
            "_model_name": "HBoxModel",
            "_view_count": null,
            "_view_module": "@jupyter-widgets/controls",
            "_view_module_version": "1.5.0",
            "_view_name": "HBoxView",
            "box_style": "",
            "children": [
              "IPY_MODEL_ee1fd1a37dc44f8ea53ae3507eed9d93",
              "IPY_MODEL_ec76aef7a34543aca8aef761cb5347ea",
              "IPY_MODEL_34b22101d7bd444bba07e0191f4736d4"
            ],
            "layout": "IPY_MODEL_a40140aa45534485a6a7aaa95607821e"
          }
        },
        "ee1fd1a37dc44f8ea53ae3507eed9d93": {
          "model_module": "@jupyter-widgets/controls",
          "model_name": "HTMLModel",
          "model_module_version": "1.5.0",
          "state": {
            "_dom_classes": [],
            "_model_module": "@jupyter-widgets/controls",
            "_model_module_version": "1.5.0",
            "_model_name": "HTMLModel",
            "_view_count": null,
            "_view_module": "@jupyter-widgets/controls",
            "_view_module_version": "1.5.0",
            "_view_name": "HTMLView",
            "description": "",
            "description_tooltip": null,
            "layout": "IPY_MODEL_15c07bf8e3b7427b8fa370526c8acb3d",
            "placeholder": "​",
            "style": "IPY_MODEL_17043111725c4ed9a1c675de8e73b334",
            "value": "100%"
          }
        },
        "ec76aef7a34543aca8aef761cb5347ea": {
          "model_module": "@jupyter-widgets/controls",
          "model_name": "FloatProgressModel",
          "model_module_version": "1.5.0",
          "state": {
            "_dom_classes": [],
            "_model_module": "@jupyter-widgets/controls",
            "_model_module_version": "1.5.0",
            "_model_name": "FloatProgressModel",
            "_view_count": null,
            "_view_module": "@jupyter-widgets/controls",
            "_view_module_version": "1.5.0",
            "_view_name": "ProgressView",
            "bar_style": "success",
            "description": "",
            "description_tooltip": null,
            "layout": "IPY_MODEL_638f4921f23443a9af549c46b1b97f02",
            "max": 5,
            "min": 0,
            "orientation": "horizontal",
            "style": "IPY_MODEL_0b028984fe854f778922f9b0a6b56c93",
            "value": 5
          }
        },
        "34b22101d7bd444bba07e0191f4736d4": {
          "model_module": "@jupyter-widgets/controls",
          "model_name": "HTMLModel",
          "model_module_version": "1.5.0",
          "state": {
            "_dom_classes": [],
            "_model_module": "@jupyter-widgets/controls",
            "_model_module_version": "1.5.0",
            "_model_name": "HTMLModel",
            "_view_count": null,
            "_view_module": "@jupyter-widgets/controls",
            "_view_module_version": "1.5.0",
            "_view_name": "HTMLView",
            "description": "",
            "description_tooltip": null,
            "layout": "IPY_MODEL_d3665717341d4eeb9ddf2b35c4816444",
            "placeholder": "​",
            "style": "IPY_MODEL_d678ad94494642779d7213324d82ffe4",
            "value": " 5/5 [08:35&lt;00:00, 102.11s/it, acc=0.9328, loss=0.1742, running_acc=0.9319, running_loss=0.1777, val_acc=0.9436, val_loss=0.1584]"
          }
        },
        "a40140aa45534485a6a7aaa95607821e": {
          "model_module": "@jupyter-widgets/base",
          "model_name": "LayoutModel",
          "model_module_version": "1.2.0",
          "state": {
            "_model_module": "@jupyter-widgets/base",
            "_model_module_version": "1.2.0",
            "_model_name": "LayoutModel",
            "_view_count": null,
            "_view_module": "@jupyter-widgets/base",
            "_view_module_version": "1.2.0",
            "_view_name": "LayoutView",
            "align_content": null,
            "align_items": null,
            "align_self": null,
            "border": null,
            "bottom": null,
            "display": null,
            "flex": null,
            "flex_flow": null,
            "grid_area": null,
            "grid_auto_columns": null,
            "grid_auto_flow": null,
            "grid_auto_rows": null,
            "grid_column": null,
            "grid_gap": null,
            "grid_row": null,
            "grid_template_areas": null,
            "grid_template_columns": null,
            "grid_template_rows": null,
            "height": null,
            "justify_content": null,
            "justify_items": null,
            "left": null,
            "margin": null,
            "max_height": null,
            "max_width": null,
            "min_height": null,
            "min_width": null,
            "object_fit": null,
            "object_position": null,
            "order": null,
            "overflow": null,
            "overflow_x": null,
            "overflow_y": null,
            "padding": null,
            "right": null,
            "top": null,
            "visibility": null,
            "width": null
          }
        },
        "15c07bf8e3b7427b8fa370526c8acb3d": {
          "model_module": "@jupyter-widgets/base",
          "model_name": "LayoutModel",
          "model_module_version": "1.2.0",
          "state": {
            "_model_module": "@jupyter-widgets/base",
            "_model_module_version": "1.2.0",
            "_model_name": "LayoutModel",
            "_view_count": null,
            "_view_module": "@jupyter-widgets/base",
            "_view_module_version": "1.2.0",
            "_view_name": "LayoutView",
            "align_content": null,
            "align_items": null,
            "align_self": null,
            "border": null,
            "bottom": null,
            "display": null,
            "flex": null,
            "flex_flow": null,
            "grid_area": null,
            "grid_auto_columns": null,
            "grid_auto_flow": null,
            "grid_auto_rows": null,
            "grid_column": null,
            "grid_gap": null,
            "grid_row": null,
            "grid_template_areas": null,
            "grid_template_columns": null,
            "grid_template_rows": null,
            "height": null,
            "justify_content": null,
            "justify_items": null,
            "left": null,
            "margin": null,
            "max_height": null,
            "max_width": null,
            "min_height": null,
            "min_width": null,
            "object_fit": null,
            "object_position": null,
            "order": null,
            "overflow": null,
            "overflow_x": null,
            "overflow_y": null,
            "padding": null,
            "right": null,
            "top": null,
            "visibility": null,
            "width": null
          }
        },
        "17043111725c4ed9a1c675de8e73b334": {
          "model_module": "@jupyter-widgets/controls",
          "model_name": "DescriptionStyleModel",
          "model_module_version": "1.5.0",
          "state": {
            "_model_module": "@jupyter-widgets/controls",
            "_model_module_version": "1.5.0",
            "_model_name": "DescriptionStyleModel",
            "_view_count": null,
            "_view_module": "@jupyter-widgets/base",
            "_view_module_version": "1.2.0",
            "_view_name": "StyleView",
            "description_width": ""
          }
        },
        "638f4921f23443a9af549c46b1b97f02": {
          "model_module": "@jupyter-widgets/base",
          "model_name": "LayoutModel",
          "model_module_version": "1.2.0",
          "state": {
            "_model_module": "@jupyter-widgets/base",
            "_model_module_version": "1.2.0",
            "_model_name": "LayoutModel",
            "_view_count": null,
            "_view_module": "@jupyter-widgets/base",
            "_view_module_version": "1.2.0",
            "_view_name": "LayoutView",
            "align_content": null,
            "align_items": null,
            "align_self": null,
            "border": null,
            "bottom": null,
            "display": null,
            "flex": null,
            "flex_flow": null,
            "grid_area": null,
            "grid_auto_columns": null,
            "grid_auto_flow": null,
            "grid_auto_rows": null,
            "grid_column": null,
            "grid_gap": null,
            "grid_row": null,
            "grid_template_areas": null,
            "grid_template_columns": null,
            "grid_template_rows": null,
            "height": null,
            "justify_content": null,
            "justify_items": null,
            "left": null,
            "margin": null,
            "max_height": null,
            "max_width": null,
            "min_height": null,
            "min_width": null,
            "object_fit": null,
            "object_position": null,
            "order": null,
            "overflow": null,
            "overflow_x": null,
            "overflow_y": null,
            "padding": null,
            "right": null,
            "top": null,
            "visibility": null,
            "width": null
          }
        },
        "0b028984fe854f778922f9b0a6b56c93": {
          "model_module": "@jupyter-widgets/controls",
          "model_name": "ProgressStyleModel",
          "model_module_version": "1.5.0",
          "state": {
            "_model_module": "@jupyter-widgets/controls",
            "_model_module_version": "1.5.0",
            "_model_name": "ProgressStyleModel",
            "_view_count": null,
            "_view_module": "@jupyter-widgets/base",
            "_view_module_version": "1.2.0",
            "_view_name": "StyleView",
            "bar_color": null,
            "description_width": ""
          }
        },
        "d3665717341d4eeb9ddf2b35c4816444": {
          "model_module": "@jupyter-widgets/base",
          "model_name": "LayoutModel",
          "model_module_version": "1.2.0",
          "state": {
            "_model_module": "@jupyter-widgets/base",
            "_model_module_version": "1.2.0",
            "_model_name": "LayoutModel",
            "_view_count": null,
            "_view_module": "@jupyter-widgets/base",
            "_view_module_version": "1.2.0",
            "_view_name": "LayoutView",
            "align_content": null,
            "align_items": null,
            "align_self": null,
            "border": null,
            "bottom": null,
            "display": null,
            "flex": null,
            "flex_flow": null,
            "grid_area": null,
            "grid_auto_columns": null,
            "grid_auto_flow": null,
            "grid_auto_rows": null,
            "grid_column": null,
            "grid_gap": null,
            "grid_row": null,
            "grid_template_areas": null,
            "grid_template_columns": null,
            "grid_template_rows": null,
            "height": null,
            "justify_content": null,
            "justify_items": null,
            "left": null,
            "margin": null,
            "max_height": null,
            "max_width": null,
            "min_height": null,
            "min_width": null,
            "object_fit": null,
            "object_position": null,
            "order": null,
            "overflow": null,
            "overflow_x": null,
            "overflow_y": null,
            "padding": null,
            "right": null,
            "top": null,
            "visibility": null,
            "width": null
          }
        },
        "d678ad94494642779d7213324d82ffe4": {
          "model_module": "@jupyter-widgets/controls",
          "model_name": "DescriptionStyleModel",
          "model_module_version": "1.5.0",
          "state": {
            "_model_module": "@jupyter-widgets/controls",
            "_model_module_version": "1.5.0",
            "_model_name": "DescriptionStyleModel",
            "_view_count": null,
            "_view_module": "@jupyter-widgets/base",
            "_view_module_version": "1.2.0",
            "_view_name": "StyleView",
            "description_width": ""
          }
        }
      }
    }
  },
  "cells": [
    {
      "cell_type": "markdown",
      "metadata": {
        "id": "view-in-github",
        "colab_type": "text"
      },
      "source": [
        "<a href=\"https://colab.research.google.com/github/mafaves/AI-projects/blob/main/image_dataset/Chest_X-Ray_Images_Pneumonia/pytorch_and_torchbearer_cnn_chest_x_ray_pneumonia.ipynb\" target=\"_parent\"><img src=\"https://colab.research.google.com/assets/colab-badge.svg\" alt=\"Open In Colab\"/></a>"
      ]
    },
    {
      "cell_type": "markdown",
      "source": [
        "https://github.com/patrickloeber/pytorchTutorial/blob/master/14_cnn.py"
      ],
      "metadata": {
        "id": "hkLGV2Lb8vF_"
      }
    },
    {
      "cell_type": "code",
      "source": [
        "gpu_info = !nvidia-smi\n",
        "gpu_info = '\\n'.join(gpu_info)\n",
        "if gpu_info.find('failed') >= 0:\n",
        "  print('Not connected to a GPU')\n",
        "else:\n",
        "  print(gpu_info)"
      ],
      "metadata": {
        "colab": {
          "base_uri": "https://localhost:8080/"
        },
        "id": "L2fqGvNU8r2h",
        "outputId": "aca01265-9d09-460f-87e5-96c0c2fae769"
      },
      "execution_count": 1,
      "outputs": [
        {
          "output_type": "stream",
          "name": "stdout",
          "text": [
            "Mon Feb  5 08:46:48 2024       \n",
            "+---------------------------------------------------------------------------------------+\n",
            "| NVIDIA-SMI 535.104.05             Driver Version: 535.104.05   CUDA Version: 12.2     |\n",
            "|-----------------------------------------+----------------------+----------------------+\n",
            "| GPU  Name                 Persistence-M | Bus-Id        Disp.A | Volatile Uncorr. ECC |\n",
            "| Fan  Temp   Perf          Pwr:Usage/Cap |         Memory-Usage | GPU-Util  Compute M. |\n",
            "|                                         |                      |               MIG M. |\n",
            "|=========================================+======================+======================|\n",
            "|   0  Tesla V100-SXM2-16GB           Off | 00000000:00:04.0 Off |                    0 |\n",
            "| N/A   31C    P0              23W / 300W |      0MiB / 16384MiB |      0%      Default |\n",
            "|                                         |                      |                  N/A |\n",
            "+-----------------------------------------+----------------------+----------------------+\n",
            "                                                                                         \n",
            "+---------------------------------------------------------------------------------------+\n",
            "| Processes:                                                                            |\n",
            "|  GPU   GI   CI        PID   Type   Process name                            GPU Memory |\n",
            "|        ID   ID                                                             Usage      |\n",
            "|=======================================================================================|\n",
            "|  No running processes found                                                           |\n",
            "+---------------------------------------------------------------------------------------+\n"
          ]
        }
      ]
    },
    {
      "cell_type": "code",
      "execution_count": 1,
      "metadata": {
        "id": "qpSXvheA4xIP"
      },
      "outputs": [],
      "source": [
        "# Imports\n",
        "import torch\n",
        "import torch.nn as nn  # All neural network modules, nn.Linear, nn.Conv2d, BatchNorm, Loss functions\n",
        "import torch.optim as optim  # For all Optimization algorithms, SGD, Adam, etc.\n",
        "import torchvision.transforms as transforms\n",
        "from torchvision.transforms import  v2 # Transformations we can perform on our dataset\n",
        "import torchvision\n",
        "import os\n",
        "import pandas as pd\n",
        "from PIL import Image\n",
        "from torch.utils.data import (\n",
        "    Dataset,\n",
        "    DataLoader,\n",
        "    random_split\n",
        ")  # Gives easier dataset managment and creates mini batches\n",
        "from torchvision import datasets, transforms\n",
        "\n",
        "import numpy as np\n",
        "import seaborn as sns\n",
        "import pandas as pd\n",
        "import matplotlib.pyplot as plt\n",
        "from sklearn.metrics import classification_report, confusion_matrix\n",
        "from glob import glob\n",
        "import zipfile\n",
        "import os"
      ]
    },
    {
      "cell_type": "code",
      "execution_count": 2,
      "metadata": {
        "colab": {
          "base_uri": "https://localhost:8080/"
        },
        "id": "wkyGapUoCMlH",
        "outputId": "493e2077-f717-42eb-b54d-de4766bc4b50"
      },
      "outputs": [
        {
          "output_type": "stream",
          "name": "stdout",
          "text": [
            "Mounted at /content/drive\n"
          ]
        }
      ],
      "source": [
        "from google.colab import drive\n",
        "drive.mount('/content/drive')"
      ]
    },
    {
      "cell_type": "code",
      "source": [
        "#path to the kaggle.json directory\n",
        "path_API_autentification_token= '/content/drive/MyDrive/Colab_Notebooks/master/Chest_X_Ray_Images_Pneumonia'"
      ],
      "metadata": {
        "id": "wtOIUUolClXv"
      },
      "execution_count": 3,
      "outputs": []
    },
    {
      "cell_type": "code",
      "source": [
        "# Coping the kaggle API to the Google Colab\n",
        "os.environ['KAGGLE_CONFIG_DIR'] = path_API_autentification_token\n",
        "\n",
        "# Downloading the data\n",
        "!kaggle datasets download -d paultimothymooney/chest-xray-pneumonia\n",
        "\n",
        "# Unzziping the data and storing into /tmp\n",
        "zip_ref = zipfile.ZipFile('chest-xray-pneumonia.zip', 'r')\n",
        "zip_ref.extractall('/tmp')\n",
        "zip_ref.close()"
      ],
      "metadata": {
        "colab": {
          "base_uri": "https://localhost:8080/"
        },
        "id": "e2nfcLhTrohL",
        "outputId": "2a15b72c-3c82-46ca-e3e6-ee886ef9cef9"
      },
      "execution_count": 4,
      "outputs": [
        {
          "output_type": "stream",
          "name": "stdout",
          "text": [
            "Downloading chest-xray-pneumonia.zip to /content\n",
            "100% 2.29G/2.29G [00:58<00:00, 44.9MB/s]\n",
            "100% 2.29G/2.29G [00:58<00:00, 41.9MB/s]\n"
          ]
        }
      ]
    },
    {
      "cell_type": "markdown",
      "source": [
        "## DATA PREPARATION\n",
        "\n",
        "The downloaded data contain 3 main folders: 'test', 'val' and 'test'. Inside each one, there are two subcategories: 'NORMAL' and 'PNEUMONIA'.\n",
        "\n",
        " In this case, I prefer to only have two: 'NORMAL' and 'PNEUMONIA' (I prefer it in order to manage all images with tf)"
      ],
      "metadata": {
        "id": "Zf0cxB6FMgvp"
      }
    },
    {
      "cell_type": "code",
      "source": [
        "import os\n",
        "import shutil\n",
        "\n",
        "def move_files(src_path, dest_path):\n",
        "    if not os.path.exists(dest_path):\n",
        "        os.makedirs(dest_path)\n",
        "\n",
        "    for filename in os.listdir(src_path):\n",
        "        file_path = os.path.join(src_path, filename)\n",
        "        shutil.move(file_path, os.path.join(dest_path, filename))\n",
        "\n",
        "extracted_dir = '/tmp/chest_xray'\n",
        "main_folders = ['train', 'val', 'test']\n",
        "output_folders = ['NORMAL', 'PNEUMONIA']\n",
        "\n",
        "# Move files from subfolders to main folders\n",
        "for main_folder in main_folders:\n",
        "    for output_folder in output_folders:\n",
        "        move_files(os.path.join(extracted_dir, main_folder, output_folder), os.path.join(extracted_dir, output_folder))\n",
        "\n",
        "# Print the number of files in 'NORMAL' and 'PNEUMONIA' folders\n",
        "for folder_name in ['NORMAL', 'PNEUMONIA']:\n",
        "    folder_path = os.path.join(extracted_dir, folder_name)\n",
        "    file_count = len(os.listdir(folder_path))\n",
        "    print(f\"Number of files in '{folder_name}' folder: {file_count}\")\n",
        "\n",
        "# Move 'NORMAL' and 'PNEUMONIA' folders into the 'images' folder\n",
        "images_dir = os.path.join(extracted_dir, 'images')\n",
        "move_files(os.path.join(extracted_dir, 'NORMAL'), os.path.join(images_dir, 'NORMAL'))\n",
        "move_files(os.path.join(extracted_dir, 'PNEUMONIA'), os.path.join(images_dir, 'PNEUMONIA'))\n",
        "\n",
        "print(\"Folders moved successfully.\")\n"
      ],
      "metadata": {
        "colab": {
          "base_uri": "https://localhost:8080/"
        },
        "id": "m3xdQU09dqr7",
        "outputId": "59285f96-593b-438f-9510-66307e709bc1"
      },
      "execution_count": 5,
      "outputs": [
        {
          "output_type": "stream",
          "name": "stdout",
          "text": [
            "Number of files in 'NORMAL' folder: 1583\n",
            "Number of files in 'PNEUMONIA' folder: 4273\n",
            "Folders moved successfully.\n"
          ]
        }
      ]
    },
    {
      "cell_type": "code",
      "source": [
        "# Define the path to the extracted directory\n",
        "extracted_dir = '/tmp/chest_xray/images'\n",
        "\n",
        "# List the contents of the directory\n",
        "contents = os.listdir(extracted_dir)\n",
        "\n",
        "# Print the contents\n",
        "print(contents)"
      ],
      "metadata": {
        "colab": {
          "base_uri": "https://localhost:8080/"
        },
        "id": "zd19r2ux-Jre",
        "outputId": "3a7f0aba-575f-4c2d-a1f0-2457a93f00f7"
      },
      "execution_count": 6,
      "outputs": [
        {
          "output_type": "stream",
          "name": "stdout",
          "text": [
            "['NORMAL', 'PNEUMONIA']\n"
          ]
        }
      ]
    },
    {
      "cell_type": "markdown",
      "source": [
        "# BUILDING THE MODEL WITH PYTORCH"
      ],
      "metadata": {
        "id": "aokJpBUs5Bw5"
      }
    },
    {
      "cell_type": "code",
      "source": [
        "# Set device\n",
        "device = torch.device(\"cuda\" if torch.cuda.is_available() else \"cpu\")\n",
        "device"
      ],
      "metadata": {
        "colab": {
          "base_uri": "https://localhost:8080/"
        },
        "id": "mtGC7Jgv5B3-",
        "outputId": "91a0e87b-ffdf-473f-b4ae-9f75101fbdce"
      },
      "execution_count": 7,
      "outputs": [
        {
          "output_type": "execute_result",
          "data": {
            "text/plain": [
              "device(type='cuda')"
            ]
          },
          "metadata": {},
          "execution_count": 7
        }
      ]
    },
    {
      "cell_type": "markdown",
      "source": [
        "#### HYPERPARAMETERS"
      ],
      "metadata": {
        "id": "5AGhLHCKE5Dr"
      }
    },
    {
      "cell_type": "code",
      "source": [
        "# Hyperparameters\n",
        "in_channel = 3\n",
        "num_classes = 2\n",
        "learning_rate = 3e-4\n",
        "batch_size = 32\n",
        "num_epochs = 5"
      ],
      "metadata": {
        "id": "6mnXjreJ5B6v"
      },
      "execution_count": 8,
      "outputs": []
    },
    {
      "cell_type": "markdown",
      "source": [
        "#### DATA AUGMENTATION"
      ],
      "metadata": {
        "id": "B5bxBLKAE9Jv"
      }
    },
    {
      "cell_type": "code",
      "source": [
        "# Define data transformations\n",
        "transform = v2.Compose([\n",
        "    v2.Resize((224, 224)),  # Resize images to a common size\n",
        "    v2.RandomHorizontalFlip(p=0.2),\n",
        "    v2.RandomVerticalFlip(p=0.3),\n",
        "    v2.RandomRotation(degrees=[-15,15]),\n",
        "    v2.Compose([v2.ToImage(), v2.ToDtype(torch.float32, scale=True)]),\n",
        "    v2.Normalize(mean=[0.4661, 0.4661, 0.4661], std=[0.2487, 0.2487, 0.2487])\n",
        "])"
      ],
      "metadata": {
        "id": "rSdAupV55B9I"
      },
      "execution_count": 9,
      "outputs": []
    },
    {
      "cell_type": "markdown",
      "source": [
        "##DATA UPLOAD"
      ],
      "metadata": {
        "id": "9LbCZu_FFR0U"
      }
    },
    {
      "cell_type": "code",
      "source": [
        "# Specify the path to your dataset\n",
        "data_path = '/tmp/chest_xray/images'"
      ],
      "metadata": {
        "id": "vTNITbvb5B_0"
      },
      "execution_count": 10,
      "outputs": []
    },
    {
      "cell_type": "code",
      "source": [
        "# Create a dataset from the folders and apply transformations\n",
        "dataset = datasets.ImageFolder(root=data_path, transform=transform) #Return type: List[Tuple[str, int]]\n",
        "\n",
        "# Create a DataLoader to iterate through the dataset\n",
        "data_loader = DataLoader(dataset, batch_size=batch_size, shuffle=False)\n",
        "\n",
        "num_classes = len(dataset.classes)\n",
        "# Count the number of images in each class\n",
        "class_counts = {class_idx: 0 for class_idx in range(num_classes)}\n",
        "\n",
        "for _, labels in data_loader.dataset.samples:\n",
        "    class_counts[labels] += 1\n",
        "\n",
        "# Print the number of images in each class\n",
        "for class_idx, count in class_counts.items():\n",
        "    print(f\"Class {class_idx}: {count} images\")"
      ],
      "metadata": {
        "colab": {
          "base_uri": "https://localhost:8080/"
        },
        "id": "JJ4JxDv9FWX8",
        "outputId": "3b2b72fd-546e-4b83-899c-e954e459f351"
      },
      "execution_count": 11,
      "outputs": [
        {
          "output_type": "stream",
          "name": "stdout",
          "text": [
            "Class 0: 1583 images\n",
            "Class 1: 4273 images\n"
          ]
        }
      ]
    },
    {
      "cell_type": "markdown",
      "source": [
        "### Checking image pixel mean and std"
      ],
      "metadata": {
        "id": "uIrWExMPMac2"
      }
    },
    {
      "cell_type": "code",
      "source": [
        "# Assuming you have a DataLoader named 'data_loader'\n",
        "mean_list, std_list = [], []\n",
        "\n",
        "for images, _ in data_loader:\n",
        "    mean_list.append(np.mean(images.numpy(), axis=(0, 2, 3)))\n",
        "    std_list.append(np.std(images.numpy(), axis=(0, 2, 3)))\n",
        "\n",
        "mean = np.mean(mean_list, axis=0)\n",
        "std = np.mean(std_list, axis=0)\n",
        "\n",
        "print(\"Calculated mean:\", mean)\n",
        "print(\"Calculated std:\", std)"
      ],
      "metadata": {
        "colab": {
          "base_uri": "https://localhost:8080/"
        },
        "id": "NzVvPI0XpnBc",
        "outputId": "52a616c1-10bd-4172-b176-7361c70d18af"
      },
      "execution_count": 30,
      "outputs": [
        {
          "output_type": "stream",
          "name": "stdout",
          "text": [
            "Calculated mean: [0.00023584 0.00023584 0.00023584]\n",
            "Calculated std: [1.0000143 1.0000143 1.0000143]\n"
          ]
        }
      ]
    },
    {
      "cell_type": "markdown",
      "source": [
        "## SPLITING DATA"
      ],
      "metadata": {
        "id": "oVtbNwUTd8n_"
      }
    },
    {
      "cell_type": "code",
      "source": [
        "# Define the sizes for train, validation, and test sets\n",
        "total_size = len(dataset)\n",
        "train_size = int(0.8 * total_size)  # 80% for training\n",
        "val_size = int(0.1 * total_size)   # 10% for validation\n",
        "test_size = total_size - train_size - val_size  # remaining for testing"
      ],
      "metadata": {
        "id": "ERGGSsmWXFff"
      },
      "execution_count": 12,
      "outputs": []
    },
    {
      "cell_type": "code",
      "source": [
        "train_dataset, val_dataset, test_dataset = random_split(dataset, [train_size, val_size, test_size])"
      ],
      "metadata": {
        "id": "7AR79WS4XUgP"
      },
      "execution_count": 13,
      "outputs": []
    },
    {
      "cell_type": "code",
      "source": [
        "len(train_dataset)"
      ],
      "metadata": {
        "colab": {
          "base_uri": "https://localhost:8080/"
        },
        "id": "R_8Clj_FgcrU",
        "outputId": "313051f2-13a9-4f53-e477-54862e1dd158"
      },
      "execution_count": 14,
      "outputs": [
        {
          "output_type": "execute_result",
          "data": {
            "text/plain": [
              "4684"
            ]
          },
          "metadata": {},
          "execution_count": 14
        }
      ]
    },
    {
      "cell_type": "markdown",
      "source": [
        "To calculate the weights for handling class imbalance, we can use the inverse of the class frequencies."
      ],
      "metadata": {
        "id": "-qyOC8igGtDW"
      }
    },
    {
      "cell_type": "markdown",
      "source": [
        "###  HANDLING IMBALANCED DATA"
      ],
      "metadata": {
        "id": "0UotjuTaEvj6"
      }
    },
    {
      "cell_type": "markdown",
      "source": [
        "The split should be agnostic to the way you sample/process your training data. Only after you have a training split of the data you can apply WeightedRandomSampler to it.\n",
        "\n",
        "[link](https://pytorch.org/docs/stable/data.html#torch.utils.data.random_split)"
      ],
      "metadata": {
        "id": "8IDmrV7ghGxg"
      }
    },
    {
      "cell_type": "code",
      "source": [
        "from torch.utils.data.sampler import WeightedRandomSampler"
      ],
      "metadata": {
        "id": "2tKdQ_jFUe7R"
      },
      "execution_count": 15,
      "outputs": []
    },
    {
      "cell_type": "code",
      "source": [
        "class_weights = np.array([1.0 / class_counts[class_idx] for class_idx in range(len(dataset.classes))])\n",
        "class_weights /= sum(class_weights)\n",
        "class_weights"
      ],
      "metadata": {
        "colab": {
          "base_uri": "https://localhost:8080/"
        },
        "id": "pnflesaSetEr",
        "outputId": "64f10e61-9581-4d52-816a-431070f2c41f"
      },
      "execution_count": 30,
      "outputs": [
        {
          "output_type": "execute_result",
          "data": {
            "text/plain": [
              "array([0.72967896, 0.27032104])"
            ]
          },
          "metadata": {},
          "execution_count": 30
        }
      ]
    },
    {
      "cell_type": "code",
      "source": [
        "def calculate_sample_weights_and_load(dataset, class_weigths):\n",
        "\n",
        "  num_samples = len(dataset)\n",
        "  print(f\"The {dataset} has {num_samples} images\")\n",
        "\n",
        "  sample_weights = [0] * num_samples\n",
        "\n",
        "  # We need to put the weights to each sample\n",
        "  for idx, (data, label) in enumerate(dataset):\n",
        "    class_weight = class_weights[label]\n",
        "    sample_weights[idx] = class_weight\n",
        "\n",
        "  #convert to correct format\n",
        "  sample_weights = torch.from_numpy(np.array(sample_weights))\n",
        "  sample_weights = sample_weights.double()\n",
        "\n",
        "  #Create the sampler\n",
        "\n",
        "  sampler = WeightedRandomSampler(sample_weights, num_samples=num_samples, replacement=True)\n",
        "\n",
        "  #load\n",
        "  loader = DataLoader(dataset, batch_size=batch_size, sampler = sampler)\n",
        "\n",
        "  return loader\n"
      ],
      "metadata": {
        "id": "jOEy_PxKhdnd"
      },
      "execution_count": 16,
      "outputs": []
    },
    {
      "cell_type": "code",
      "source": [
        "train_loader = calculate_sample_weights_and_load(train_dataset,class_weights)\n",
        "val_loader = calculate_sample_weights_and_load(val_dataset, class_weights)\n",
        "test_loader = calculate_sample_weights_and_load(test_dataset, class_weights)"
      ],
      "metadata": {
        "colab": {
          "base_uri": "https://localhost:8080/"
        },
        "id": "BvLSbYo8i-tt",
        "outputId": "ef20136a-3557-4e0d-b4e5-fe3aaab65a43"
      },
      "execution_count": 31,
      "outputs": [
        {
          "output_type": "stream",
          "name": "stdout",
          "text": [
            "The <torch.utils.data.dataset.Subset object at 0x7fa9a3cb77f0> has 4684 images\n",
            "The <torch.utils.data.dataset.Subset object at 0x7fa9a3cb7490> has 585 images\n",
            "The <torch.utils.data.dataset.Subset object at 0x7fa9a3cb78b0> has 587 images\n"
          ]
        }
      ]
    },
    {
      "cell_type": "code",
      "source": [
        "len(val_loader)*32"
      ],
      "metadata": {
        "colab": {
          "base_uri": "https://localhost:8080/"
        },
        "id": "4YVONA1ogML8",
        "outputId": "1b60d3a0-de4f-4a3d-cd10-53acc20fde10"
      },
      "execution_count": 32,
      "outputs": [
        {
          "output_type": "execute_result",
          "data": {
            "text/plain": [
              "608"
            ]
          },
          "metadata": {},
          "execution_count": 32
        }
      ]
    },
    {
      "cell_type": "code",
      "source": [
        "def count_label_occurrences(data_loader, label_values):\n",
        "    # Initialize counts for each label\n",
        "    label_counts = {label: 0 for label in label_values}\n",
        "\n",
        "    # Iterate through the data loader\n",
        "    for _, labels in data_loader:\n",
        "        # Count occurrences of each label\n",
        "        for label in labels:\n",
        "            label_counts[label.item()] += 1\n",
        "\n",
        "    # Print the count of each label\n",
        "    print(f\"The count for each label in {data_loader} is:\")\n",
        "    for label, count in label_counts.items():\n",
        "        print(f\"Label {label}: {count} occurrences\")\n",
        "\n"
      ],
      "metadata": {
        "id": "GwBA-2xUes8Y"
      },
      "execution_count": 33,
      "outputs": []
    },
    {
      "cell_type": "code",
      "source": [
        "# Example usage with your train_loader and label_values\n",
        "# Assuming label_values is a list containing the unique label values in your dataset\n",
        "label_values = [0, 1]\n",
        "count_label_occurrences(train_loader, label_values)"
      ],
      "metadata": {
        "colab": {
          "base_uri": "https://localhost:8080/"
        },
        "id": "eb9oIgLpes_j",
        "outputId": "ed3a673f-450c-4eb8-f1ee-f6760785b956"
      },
      "execution_count": 34,
      "outputs": [
        {
          "output_type": "stream",
          "name": "stdout",
          "text": [
            "The count for each label in <torch.utils.data.dataloader.DataLoader object at 0x7fa9a550f670> is:\n",
            "Label 0: 2482 occurrences\n",
            "Label 1: 2202 occurrences\n"
          ]
        }
      ]
    },
    {
      "cell_type": "code",
      "source": [
        "# Checking we have both classes in each batch\n",
        "for images, labels in train_loader:\n",
        "    # Print labels or analyze them to check the distribution\n",
        "    print(labels)\n",
        "    break"
      ],
      "metadata": {
        "colab": {
          "base_uri": "https://localhost:8080/"
        },
        "id": "4XZpsK55KOeJ",
        "outputId": "1577e3f7-7553-42ff-ef34-572a3f5ef1c0"
      },
      "execution_count": 35,
      "outputs": [
        {
          "output_type": "stream",
          "name": "stdout",
          "text": [
            "tensor([1, 1, 1, 1, 0, 0, 1, 1, 1, 0, 1, 1, 1, 0, 0, 1, 0, 0, 0, 0, 1, 0, 0, 0,\n",
            "        0, 0, 0, 0, 1, 0, 1, 0])\n"
          ]
        }
      ]
    },
    {
      "cell_type": "markdown",
      "source": [],
      "metadata": {
        "id": "TMsjxs7diP66"
      }
    },
    {
      "cell_type": "code",
      "source": [
        "# Printing some information about types\n",
        "for i, (images, labels) in enumerate(train_loader):\n",
        "    print(f\"Batch {i + 1}:\")\n",
        "    print(f\"Images shape: {images.shape}\")\n",
        "    print(f\"Labels shape: {labels.shape}\")\n",
        "    break  # Stop after the first batch for brevity"
      ],
      "metadata": {
        "colab": {
          "base_uri": "https://localhost:8080/"
        },
        "id": "bbAYcpmudiVN",
        "outputId": "3be5c2d2-9d1b-4d68-b63a-b72e128a257b"
      },
      "execution_count": null,
      "outputs": [
        {
          "output_type": "stream",
          "name": "stdout",
          "text": [
            "Batch 1:\n",
            "Images shape: torch.Size([32, 3, 224, 224])\n",
            "Labels shape: torch.Size([32])\n"
          ]
        }
      ]
    },
    {
      "cell_type": "code",
      "source": [
        "def get_class_proportions(loader, classes):\n",
        "    class_counts = {class_idx: 0 for class_idx in range(len(classes))}\n",
        "    total_images = 0\n",
        "\n",
        "    for _, labels in loader:\n",
        "        for label in labels:\n",
        "            class_counts[label.item()] += 1\n",
        "            total_images += 1\n",
        "\n",
        "    class_proportions = {class_idx: count / total_images for class_idx, count in class_counts.items()}\n",
        "\n",
        "    return class_counts, class_proportions, total_images"
      ],
      "metadata": {
        "id": "HBVUK-QwXUls"
      },
      "execution_count": null,
      "outputs": []
    },
    {
      "cell_type": "code",
      "source": [
        "# Load a batch of images\n",
        "for images, labels in train_loader:\n",
        "    example_image = images[0]  # Take the first image from the batch\n",
        "    break\n",
        "\n",
        "inverse_normalize = v2.Normalize(mean=[-0.4661/0.2487, -0.4661/0.2487, -0.4661/0.2487], std=[1/0.2487, 1/0.2487, 1/0.2487])\n",
        "\n",
        "# Apply inverse normalization\n",
        "example_image = inverse_normalize(example_image)\n",
        "# Clip pixel values to the valid range [0, 1]\n",
        "#example_image= np.clip(example_image, 0, 1)\n",
        "\n",
        "# Convert the PyTorch tensor to a NumPy array\n",
        "example_image_array = example_image.numpy()\n",
        "\n",
        "# Print the shape of the NumPy array\n",
        "print(\"Image shape:\", example_image_array.shape)\n",
        "\n",
        "# Print the number of channels\n",
        "num_channels = example_image_array.shape[0]\n",
        "print(\"Number of channels:\", num_channels)\n",
        "\n",
        "print(\"Min value:\", example_image_array.min())\n",
        "print(\"Max value:\", example_image_array.max())\n",
        "\n",
        "# Visualize the image\n",
        "plt.imshow(np.transpose(example_image_array, (1, 2, 0)))  # Transpose to (H, W, C) for proper visualization*\n",
        "plt.title(f\"Example Image\")\n",
        "plt.axis('off')\n",
        "plt.show()"
      ],
      "metadata": {
        "colab": {
          "base_uri": "https://localhost:8080/",
          "height": 515
        },
        "id": "Qc-bsNgwA2NL",
        "outputId": "32a6f7b8-8f6d-4aa7-a869-cbb0c574661b"
      },
      "execution_count": null,
      "outputs": [
        {
          "output_type": "stream",
          "name": "stderr",
          "text": [
            "WARNING:matplotlib.image:Clipping input data to the valid range for imshow with RGB data ([0..1] for floats or [0..255] for integers).\n"
          ]
        },
        {
          "output_type": "stream",
          "name": "stdout",
          "text": [
            "Image shape: (3, 224, 224)\n",
            "Number of channels: 3\n",
            "Min value: -2.964735e-08\n",
            "Max value: 0.94117653\n"
          ]
        },
        {
          "output_type": "display_data",
          "data": {
            "text/plain": [
              "<Figure size 640x480 with 1 Axes>"
            ],
            "image/png": "[encoded data removed]"
          },
          "metadata": {}
        }
      ]
    },
    {
      "cell_type": "markdown",
      "source": [
        "*In PyTorch, the typical order of dimensions for an image tensor is (C, H, W), where: C is the number of channels,\n",
        "H is the height of the image, and\n",
        "W is the width of the image.\n",
        "\n",
        "However, matplotlib expects the channel dimension to be the last one, in the order (H, W, C). So, the np.transpose function is used to swap the dimensions accordingly. The expression np.transpose(example_image_array, (1, 2, 0)) indicates that the new order of dimensions should be (1, 2, 0),"
      ],
      "metadata": {
        "id": "hMk4thC-BYE0"
      }
    },
    {
      "cell_type": "code",
      "source": [
        "class cnn_x_chest(nn.Module):\n",
        "    def __init__(self, num_classes=1):\n",
        "        super(cnn_x_chest, self).__init__()\n",
        "\n",
        "        # Convolutional layers\n",
        "        self.conv1 = nn.Conv2d(3, 128, kernel_size=3, stride=1, padding=1)\n",
        "        self.pool1 = nn.MaxPool2d(kernel_size=2, stride=2)\n",
        "\n",
        "        self.conv2 = nn.Conv2d(128, 64, kernel_size=3, stride=1, padding=1)\n",
        "        self.pool2 = nn.MaxPool2d(kernel_size=2, stride=2)\n",
        "\n",
        "        self.conv3 = nn.Conv2d(64, 32, kernel_size=3, stride=1, padding=1)\n",
        "        self.pool3 = nn.MaxPool2d(kernel_size=2, stride=2)\n",
        "\n",
        "        self.conv4 = nn.Conv2d(32, 16, kernel_size=3, stride=1, padding=1)\n",
        "        self.pool4 = nn.MaxPool2d(kernel_size=2, stride=2)\n",
        "\n",
        "        # Fully connected layers\n",
        "        self.fc1 = nn.Linear(16 * 14 * 14, 512)\n",
        "        self.relu1 = nn.ReLU()\n",
        "        self.fc2 = nn.Linear(512, num_classes)\n",
        "    # defines the forward pass of the neural network\n",
        "    def forward(self, x):\n",
        "        x = self.pool1(nn.functional.relu(self.conv1(x))) # -> n, 128, H/2, W/2\n",
        "        x = self.pool2(nn.functional.relu(self.conv2(x))) # -> n, 64, H/4, W/4\n",
        "        x = self.pool3(nn.functional.relu(self.conv3(x))) # -> n, 32, H/8, W/8\n",
        "        x = self.pool4(nn.functional.relu(self.conv4(x))) # -> n, 32, H/16, W/16\n",
        "        x = x.view(-1, 16 * 14 * 14) # -> n, 16 * 14 * 14\n",
        "        x = self.relu1(self.fc1(x)) # -> n, 512\n",
        "        x = self.fc2(x) # -> n, num_classes\n",
        "        return torch.sigmoid(x)"
      ],
      "metadata": {
        "id": "Flmp_Co5hkju"
      },
      "execution_count": 20,
      "outputs": []
    },
    {
      "cell_type": "code",
      "source": [
        "from torchsummary import summary"
      ],
      "metadata": {
        "id": "cI9Uqc-IduyS"
      },
      "execution_count": 18,
      "outputs": []
    },
    {
      "cell_type": "code",
      "source": [
        "model = cnn_x_chest().to(device)"
      ],
      "metadata": {
        "id": "-K0V3qgdBiNF"
      },
      "execution_count": 21,
      "outputs": []
    },
    {
      "cell_type": "code",
      "source": [
        "summary(model, input_size= (3, 224, 224))"
      ],
      "metadata": {
        "colab": {
          "base_uri": "https://localhost:8080/"
        },
        "id": "KKJFu7l9dwmC",
        "outputId": "250f5ff6-4d51-4828-abed-af66a2b856e5"
      },
      "execution_count": 49,
      "outputs": [
        {
          "output_type": "stream",
          "name": "stdout",
          "text": [
            "----------------------------------------------------------------\n",
            "        Layer (type)               Output Shape         Param #\n",
            "================================================================\n",
            "            Conv2d-1        [-1, 128, 224, 224]           3,584\n",
            "         MaxPool2d-2        [-1, 128, 112, 112]               0\n",
            "            Conv2d-3         [-1, 64, 112, 112]          73,792\n",
            "         MaxPool2d-4           [-1, 64, 56, 56]               0\n",
            "            Conv2d-5           [-1, 32, 56, 56]          18,464\n",
            "         MaxPool2d-6           [-1, 32, 28, 28]               0\n",
            "            Conv2d-7           [-1, 16, 28, 28]           4,624\n",
            "         MaxPool2d-8           [-1, 16, 14, 14]               0\n",
            "            Linear-9                  [-1, 512]       1,606,144\n",
            "             ReLU-10                  [-1, 512]               0\n",
            "           Linear-11                    [-1, 1]             513\n",
            "================================================================\n",
            "Total params: 1,707,121\n",
            "Trainable params: 1,707,121\n",
            "Non-trainable params: 0\n",
            "----------------------------------------------------------------\n",
            "Input size (MB): 0.57\n",
            "Forward/backward pass size (MB): 69.99\n",
            "Params size (MB): 6.51\n",
            "Estimated Total Size (MB): 77.08\n",
            "----------------------------------------------------------------\n"
          ]
        }
      ]
    },
    {
      "cell_type": "code",
      "source": [
        "# Criterion (Loss function)\n",
        "criterion = nn.BCELoss()\n",
        "\n",
        "# Optimizer\n",
        "optimizer = optim.Adam(model.parameters(), lr=learning_rate)"
      ],
      "metadata": {
        "id": "TeQibslxBiQp"
      },
      "execution_count": 50,
      "outputs": []
    },
    {
      "cell_type": "markdown",
      "source": [
        "https://stackoverflow.com/questions/53628622/loss-function-its-inputs-for-binary-classification-pytorch"
      ],
      "metadata": {
        "id": "jS5p8cQEnEwf"
      }
    },
    {
      "cell_type": "code",
      "source": [
        "from tqdm.notebook import trange, tqdm"
      ],
      "metadata": {
        "id": "uxbV2oqMfRWn"
      },
      "execution_count": 25,
      "outputs": []
    },
    {
      "cell_type": "markdown",
      "source": [
        "### TRAINING"
      ],
      "metadata": {
        "id": "5seiqlxaRURt"
      }
    },
    {
      "cell_type": "code",
      "source": [
        "def train_model(model, train_loader, test_loader, optimizer, criterion, num_epochs, device='cuda'):\n",
        "  liveloss = PlotLosses()\n",
        "  loss_list = []\n",
        "  iteration_list = []\n",
        "  accuracy_list = []\n",
        "  count = 0\n",
        "\n",
        "  for epoch in tqdm(range(num_epochs)):\n",
        "      total_loss = 0.0\n",
        "\n",
        "      for i, (images, labels) in enumerate(train_loader):\n",
        "          images, labels = images.to(device), labels.to(device)\n",
        "          labels = labels.float()\n",
        "\n",
        "\n",
        "          optimizer.zero_grad()\n",
        "          outputs = model(images)\n",
        "          loss = criterion(outputs, labels.unsqueeze(1))\n",
        "          loss.backward()\n",
        "          optimizer.step()\n",
        "\n",
        "          count += 1\n",
        "\n",
        "          if count % 10 == 0:\n",
        "            accuracy = test_during_training(test_loader)\n",
        "\n",
        "            loss_list.append(loss.item())\n",
        "            iteration_list.append(count)\n",
        "            accuracy_list.append(accuracy)\n",
        "\n",
        "          if count % 250 == 0:\n",
        "              print(f'Iteration: {count}  Loss: {loss.item():.3f}  Accuracy: {accuracy:.3f}%')\n",
        "\n",
        "  return loss_list, iteration_list, accuracy_list"
      ],
      "metadata": {
        "id": "-mUfi1dJnHUv"
      },
      "execution_count": 52,
      "outputs": []
    },
    {
      "cell_type": "code",
      "source": [
        "def test_during_training(test_loader):\n",
        "  correct = 0\n",
        "  total = 0\n",
        "\n",
        "  for images, target in test_loader:\n",
        "    test, target = images.to(device), target.to(device)\n",
        "    target = target.float()\n",
        "    target = target.unsqueeze(1)\n",
        "\n",
        "    outputs = model(test)\n",
        "    predicted = outputs.round()\n",
        "\n",
        "    total += len(target)\n",
        "    correct += (predicted == target).sum()\n",
        "\n",
        "    accuracy = 100 * correct / float(total)\n",
        "  return accuracy"
      ],
      "metadata": {
        "id": "bAYZPfnE51vp"
      },
      "execution_count": 54,
      "outputs": []
    },
    {
      "cell_type": "code",
      "source": [
        "loss_list, iteration_list, accuracy_list = train_model(model, train_loader, test_loader, optimizer, criterion, num_epochs=3, device=device)"
      ],
      "metadata": {
        "colab": {
          "base_uri": "https://localhost:8080/",
          "height": 66,
          "referenced_widgets": [
            "0ace1ed30f36477ebb89aa0104b03360",
            "7225492c4d0f469e9953f22f02ac7a77",
            "50111e0474414c09a77e18252126e649",
            "49d55899820b4306877881cf5729a1c8",
            "a460e4e238cb40499ecda9043e66ae28",
            "bce8b8daf69d460aa87bf23b2d3a13a4",
            "8c2ad6c2754f4640b877527128c8be26",
            "38d11964618c4adc925b78756586c1ba",
            "29071a1b907848cf90740dc7f9fc00ce",
            "fc1d40f3e4a94e29b43e59d5690e1c2b",
            "c5aef07cce3545a3ae0a4f28ab89a708"
          ]
        },
        "id": "EofOgRTT7aVA",
        "outputId": "62825ce4-edc9-4e78-cc0d-f2499945c166"
      },
      "execution_count": 56,
      "outputs": [
        {
          "output_type": "display_data",
          "data": {
            "text/plain": [
              "  0%|          | 0/3 [00:00<?, ?it/s]"
            ],
            "application/vnd.jupyter.widget-view+json": {
              "version_major": 2,
              "version_minor": 0,
              "model_id": "0ace1ed30f36477ebb89aa0104b03360"
            }
          },
          "metadata": {}
        },
        {
          "output_type": "stream",
          "name": "stdout",
          "text": [
            "Iteration: 250  Loss: 0.101  Accuracy: 93.697%\n"
          ]
        }
      ]
    },
    {
      "cell_type": "markdown",
      "source": [],
      "metadata": {
        "id": "O520uLg151Pz"
      }
    },
    {
      "cell_type": "code",
      "source": [
        "# Assuming output is a list of PyTorch tensors\n",
        "#output_loss = [tensor.item() for tensor in loss_list]\n",
        "output_acc = [tensor.item() for tensor in accuracy_list]\n",
        "\n",
        "# Convert the list to a NumPy array\n",
        "#loss_list_np = np.array(output_loss)\n",
        "accuracy_list_np = np.array(output_acc)\n"
      ],
      "metadata": {
        "id": "VdpxbGsaB6S9"
      },
      "execution_count": 62,
      "outputs": []
    },
    {
      "cell_type": "code",
      "source": [
        "# visualization loss\n",
        "plt.plot(iteration_list, loss_list)\n",
        "plt.xlabel(\"Number of iteration\")\n",
        "plt.ylabel(\"Loss\")\n",
        "plt.title(\"CNN: Loss vs Number of iteration\")\n",
        "plt.show()\n"
      ],
      "metadata": {
        "id": "PREkpHFMnSpH",
        "colab": {
          "base_uri": "https://localhost:8080/",
          "height": 472
        },
        "outputId": "15dc4523-1e19-40ad-cc65-dece604bdbce"
      },
      "execution_count": 58,
      "outputs": [
        {
          "output_type": "display_data",
          "data": {
            "text/plain": [
              "<Figure size 640x480 with 1 Axes>"
            ],
            "image/png": "[encoded data removed]"
          },
          "metadata": {}
        }
      ]
    },
    {
      "cell_type": "code",
      "source": [
        "# visualization accuracy\n",
        "plt.plot(iteration_list,accuracy_list_np,color = \"red\")\n",
        "plt.xlabel(\"Number of iteration\")\n",
        "plt.ylabel(\"Accuracy\")\n",
        "plt.title(\"CNN: Accuracy vs Number of iteration\")\n",
        "plt.show()"
      ],
      "metadata": {
        "colab": {
          "base_uri": "https://localhost:8080/",
          "height": 472
        },
        "id": "uFoLrnG6CKum",
        "outputId": "97f8784c-fb72-423e-ac2f-fa8ba669d4e5"
      },
      "execution_count": 63,
      "outputs": [
        {
          "output_type": "display_data",
          "data": {
            "text/plain": [
              "<Figure size 640x480 with 1 Axes>"
            ],
            "image/png": "[encoded data removed]"
          },
          "metadata": {}
        }
      ]
    },
    {
      "cell_type": "markdown",
      "source": [
        "### EVALUATING"
      ],
      "metadata": {
        "id": "aUqObaNpSOvg"
      }
    },
    {
      "cell_type": "code",
      "source": [
        "import torch\n",
        "from sklearn.metrics import accuracy_score, confusion_matrix\n",
        "\n",
        "def test(model,test_loader,device):\n",
        "\n",
        "    # Move the model to the specified device\n",
        "    model.to(device)\n",
        "    # Set the model to evaluation mode\n",
        "    model.eval()\n",
        "\n",
        "    y_true = []\n",
        "    y_pred = []\n",
        "\n",
        "    # Set the requires_grad flag to false as we are in the test mode\n",
        "    with torch.no_grad():\n",
        "        for data, target in test_loader:\n",
        "            # Moving the tensors to the configured device\n",
        "            data, target = data.to(device), target.to(device)\n",
        "            # Convert target to float\n",
        "            target = target.float()\n",
        "\n",
        "            # Forward pass\n",
        "            output = model(data.float())\n",
        "\n",
        "            # Predictions (using torch.Tensor.round() instead of np.round())\n",
        "            pred = output.round()\n",
        "\n",
        "            # Extend lists with true and predicted values\n",
        "            y_true.extend(target.cpu().numpy().tolist())\n",
        "            y_pred.extend(pred.cpu().numpy().reshape(-1).tolist())\n",
        "\n",
        "    # Calculate accuracy using scikit-learn's accuracy_score\n",
        "    accuracy = accuracy_score(y_true, y_pred)\n",
        "    print(\"Accuracy on the test set:\", accuracy)\n",
        "\n",
        "    # Calculate confusion matrix\n",
        "    conf_matrix = confusion_matrix(y_true, y_pred)\n",
        "    print(\"Confusion Matrix:\")\n",
        "    print(conf_matrix)\n"
      ],
      "metadata": {
        "id": "IniSHpGHmPfy"
      },
      "execution_count": null,
      "outputs": []
    },
    {
      "cell_type": "code",
      "source": [
        "# Testing after each epoch\n",
        "test(model, val_loader, device)"
      ],
      "metadata": {
        "colab": {
          "base_uri": "https://localhost:8080/"
        },
        "id": "r1d2Sr2cNoZa",
        "outputId": "f69830c8-dcd7-4472-cbeb-5ac52ebe752f"
      },
      "execution_count": null,
      "outputs": [
        {
          "output_type": "stream",
          "name": "stdout",
          "text": [
            "Accuracy on the test set: 0.9572649572649573\n",
            "Confusion Matrix:\n",
            "[[256  15]\n",
            " [ 10 304]]\n"
          ]
        }
      ]
    },
    {
      "cell_type": "markdown",
      "source": [
        "# MODEL CREATED WITH TORCHBEARER"
      ],
      "metadata": {
        "id": "mZBZaEheqZ6X"
      }
    },
    {
      "cell_type": "markdown",
      "source": [
        "\n",
        "https://torchbearer.readthedocs.io/en/latest/code/main.html\n",
        "\n",
        "https://github.com/stared/livelossplot/blob/master/examples/torchbearer.ipynb"
      ],
      "metadata": {
        "id": "IVhPS8mnnYOG"
      }
    },
    {
      "cell_type": "code",
      "source": [
        "!pip install torchbearer -q\n",
        "!pip install livelossplot -q\n",
        "pip install tensorboardX -q"
      ],
      "metadata": {
        "id": "LJnPNEZsqgyk",
        "colab": {
          "base_uri": "https://localhost:8080/"
        },
        "outputId": "35f0616c-0a83-4726-fa32-2f56b387a00f"
      },
      "execution_count": 68,
      "outputs": [
        {
          "output_type": "stream",
          "name": "stdout",
          "text": [
            "\u001b[?25l     \u001b[90m━━━━━━━━━━━━━━━━━━━━━━━━━━━━━━━━━━━━━━━━\u001b[0m \u001b[32m0.0/139.4 kB\u001b[0m \u001b[31m?\u001b[0m eta \u001b[36m-:--:--\u001b[0m\r\u001b[2K     \u001b[90m━━━━━━━━━━━━━━━━━━━━━━━━━━━━━━━━━━━━━━━━\u001b[0m \u001b[32m139.4/139.4 kB\u001b[0m \u001b[31m4.5 MB/s\u001b[0m eta \u001b[36m0:00:00\u001b[0m\n",
            "\u001b[?25h"
          ]
        }
      ]
    },
    {
      "cell_type": "code",
      "source": [
        "#pip install --upgrade torch torchvision"
      ],
      "metadata": {
        "id": "zUEchmVsoe67"
      },
      "execution_count": 13,
      "outputs": []
    },
    {
      "cell_type": "code",
      "source": [
        "from livelossplot import PlotLossesKeras"
      ],
      "metadata": {
        "id": "4arnWf9XhgN7"
      },
      "execution_count": 70,
      "outputs": []
    },
    {
      "cell_type": "code",
      "source": [
        "import torchbearer\n",
        "from torchbearer import Trial\n",
        "from torchbearer.callbacks import LiveLossPlot\n",
        "from torchbearer.cv_utils import DatasetValidationSplitter\n",
        "import torchbearer.callbacks as callbacks\n",
        "from torchbearer.callbacks import imaging\n",
        "from torchsummary import summary"
      ],
      "metadata": {
        "id": "sSRZ4w_fq6Xr"
      },
      "execution_count": 71,
      "outputs": []
    },
    {
      "cell_type": "code",
      "source": [
        "import tensorboardX"
      ],
      "metadata": {
        "id": "bgH4Osuk2lkt"
      },
      "execution_count": 87,
      "outputs": []
    },
    {
      "cell_type": "code",
      "source": [
        "from torchbearer.callbacks import TensorBoard"
      ],
      "metadata": {
        "id": "BYEKZMEk3VIm"
      },
      "execution_count": 88,
      "outputs": []
    },
    {
      "cell_type": "code",
      "source": [
        "print(torchbearer.__version__)"
      ],
      "metadata": {
        "colab": {
          "base_uri": "https://localhost:8080/"
        },
        "id": "K1R1xgCRkNxh",
        "outputId": "7953b661-41b8-4b39-b1b3-13244d2ab1c6"
      },
      "execution_count": 72,
      "outputs": [
        {
          "output_type": "stream",
          "name": "stdout",
          "text": [
            "0.5.5\n"
          ]
        }
      ]
    },
    {
      "cell_type": "code",
      "source": [
        "# Hyperparameters\n",
        "in_channel = 3\n",
        "num_classes = 2\n",
        "learning_rate = 3e-4\n",
        "batch_size = 32\n",
        "num_epochs = 5\n",
        "height = 224\n",
        "width = 224"
      ],
      "metadata": {
        "id": "CSLv6c2KozBX"
      },
      "execution_count": 69,
      "outputs": []
    },
    {
      "cell_type": "code",
      "source": [
        "inv_normalize = v2.Normalize(mean=[-0.4661/0.2487, -0.4661/0.2487, -0.4661/0.2487], std=[1/0.2487, 1/0.2487, 1/0.2487])\n",
        "\n",
        "make_grid = imaging.MakeGrid(torchbearer.INPUT, num_images=64, nrow=8, transform=inv_normalize)\n",
        "make_grid = make_grid.on_test().to_pyplot().to_file('sample.png')"
      ],
      "metadata": {
        "id": "ECFw_-5mmmJe"
      },
      "execution_count": 73,
      "outputs": []
    },
    {
      "cell_type": "code",
      "source": [
        "class cnn_x_chest_torchbearer(nn.Module):\n",
        "    def __init__(self, num_classes=2):\n",
        "        super(cnn_x_chest_torchbearer, self).__init__()\n",
        "        self.convs = nn.Sequential(\n",
        "            nn.Conv2d(3, 128, kernel_size=3, stride=1, padding=1),\n",
        "            nn.MaxPool2d(kernel_size=2, stride=2),\n",
        "            nn.Conv2d(128, 64, kernel_size=3, stride=1, padding=1),\n",
        "            nn.MaxPool2d(kernel_size=2, stride=2),\n",
        "            nn.Conv2d(64, 32, kernel_size=3, stride=1, padding=1),\n",
        "            nn.MaxPool2d(kernel_size=2, stride=2),\n",
        "            nn.Conv2d(32, 16, kernel_size=3, stride=1, padding=1),\n",
        "            nn.MaxPool2d(kernel_size=2, stride=2),\n",
        "        )\n",
        "\n",
        "        # Calculate the size of the linear layer dynamically\n",
        "        self.fc_size = self._calculate_fc_size()\n",
        "\n",
        "        self.classifier = nn.Linear(self.fc_size, num_classes)\n",
        "\n",
        "    def _calculate_fc_size(self):\n",
        "        # Dummy input to get the output shape after convolutions\n",
        "        dummy_input = torch.randn(1, 3, 224, 224)\n",
        "        conv_output_shape = self._get_conv_output_shape(dummy_input)\n",
        "\n",
        "        # Calculate the size of the linear layer\n",
        "        fc_size = conv_output_shape[0] * conv_output_shape[1] * conv_output_shape[2]\n",
        "        print(fc_size)\n",
        "        return fc_size\n",
        "\n",
        "    def _get_conv_output_shape(self, x):\n",
        "        x = self.convs(x)\n",
        "        return x.shape[-3:]\n",
        "\n",
        "    def forward(self, x):\n",
        "        x = self.convs(x)\n",
        "        x = x.view(-1, self.fc_size)\n",
        "\n",
        "        return self.classifier(x)"
      ],
      "metadata": {
        "id": "aDLbJVtkrkKn"
      },
      "execution_count": 75,
      "outputs": []
    },
    {
      "cell_type": "code",
      "source": [
        "model_torchbearer = cnn_x_chest_torchbearer().to(device)"
      ],
      "metadata": {
        "id": "LAvlldjSns0X"
      },
      "execution_count": 83,
      "outputs": []
    },
    {
      "cell_type": "code",
      "source": [
        "summary(model_torchbearer, input_size=(in_channel, height, width))"
      ],
      "metadata": {
        "colab": {
          "base_uri": "https://localhost:8080/"
        },
        "id": "uELnYA99rF99",
        "outputId": "088f680c-28c4-4242-f2a0-1670d6e43185"
      },
      "execution_count": 84,
      "outputs": [
        {
          "output_type": "stream",
          "name": "stdout",
          "text": [
            "----------------------------------------------------------------\n",
            "        Layer (type)               Output Shape         Param #\n",
            "================================================================\n",
            "            Conv2d-1        [-1, 128, 224, 224]           3,584\n",
            "         MaxPool2d-2        [-1, 128, 112, 112]               0\n",
            "            Conv2d-3         [-1, 64, 112, 112]          73,792\n",
            "         MaxPool2d-4           [-1, 64, 56, 56]               0\n",
            "            Conv2d-5           [-1, 32, 56, 56]          18,464\n",
            "         MaxPool2d-6           [-1, 32, 28, 28]               0\n",
            "            Conv2d-7           [-1, 16, 28, 28]           4,624\n",
            "         MaxPool2d-8           [-1, 16, 14, 14]               0\n",
            "            Linear-9                    [-1, 2]           6,274\n",
            "================================================================\n",
            "Total params: 106,738\n",
            "Trainable params: 106,738\n",
            "Non-trainable params: 0\n",
            "----------------------------------------------------------------\n",
            "Input size (MB): 0.57\n",
            "Forward/backward pass size (MB): 69.98\n",
            "Params size (MB): 0.41\n",
            "Estimated Total Size (MB): 70.96\n",
            "----------------------------------------------------------------\n"
          ]
        }
      ]
    },
    {
      "cell_type": "code",
      "source": [
        "device = 'cuda' if torch.cuda.is_available() else 'cpu'\n",
        "optimizer = optim.Adam(filter(lambda p: p.requires_grad, model_torchbearer.parameters()), lr=0.001)\n",
        "loss = nn.CrossEntropyLoss()"
      ],
      "metadata": {
        "id": "qUcyQykvoITa"
      },
      "execution_count": 89,
      "outputs": []
    },
    {
      "cell_type": "code",
      "source": [
        "# Create a dataset from the folders and apply transformations\n",
        "dataset = datasets.ImageFolder(root=data_path, transform=transform) #Return type: List[Tuple[str, int]]\n",
        "\n",
        "splitter = DatasetValidationSplitter(len(dataset), 0.1)\n",
        "\n",
        "trainset = splitter.get_train_dataset(dataset)\n",
        "valset = splitter.get_val_dataset(dataset)\n",
        "\n",
        "\n",
        "traingen = DataLoader(trainset, pin_memory=False, batch_size=batch_size, shuffle=True, num_workers=0)\n",
        "valgen = DataLoader(valset, pin_memory=False, batch_size=batch_size, shuffle=True, num_workers=0)\n",
        "\n",
        "\n"
      ],
      "metadata": {
        "id": "FEIVFiZSq6gL"
      },
      "execution_count": 85,
      "outputs": []
    },
    {
      "cell_type": "code",
      "source": [
        "callbacks = [TensorBoard(write_graph=True, write_batch_metrics=False, write_epoch_metrics=False)]\n",
        "callbacks.append(make_grid)\n",
        "\n",
        "trial = Trial(model_torchbearer, optimizer, loss, metrics=['acc', 'loss'], callbacks=callbacks).to(device)\n",
        "trial.with_generators(train_generator=traingen, val_generator=valgen)\n",
        "history = trial.run(epochs=5, verbose=1)"
      ],
      "metadata": {
        "colab": {
          "base_uri": "https://localhost:8080/",
          "height": 49,
          "referenced_widgets": [
            "c96f0913818f4122ada370057b149a7f",
            "ee1fd1a37dc44f8ea53ae3507eed9d93",
            "ec76aef7a34543aca8aef761cb5347ea",
            "34b22101d7bd444bba07e0191f4736d4",
            "a40140aa45534485a6a7aaa95607821e",
            "15c07bf8e3b7427b8fa370526c8acb3d",
            "17043111725c4ed9a1c675de8e73b334",
            "638f4921f23443a9af549c46b1b97f02",
            "0b028984fe854f778922f9b0a6b56c93",
            "d3665717341d4eeb9ddf2b35c4816444",
            "d678ad94494642779d7213324d82ffe4"
          ]
        },
        "id": "_3229PwDoIZh",
        "outputId": "f529221a-10f1-4c8c-c818-26cd4163700b"
      },
      "execution_count": 91,
      "outputs": [
        {
          "output_type": "display_data",
          "data": {
            "text/plain": [
              "  0%|          | 0/5 [00:00<?, ?it/s]"
            ],
            "application/vnd.jupyter.widget-view+json": {
              "version_major": 2,
              "version_minor": 0,
              "model_id": "c96f0913818f4122ada370057b149a7f"
            }
          },
          "metadata": {}
        }
      ]
    },
    {
      "cell_type": "code",
      "source": [
        "train_acc = []\n",
        "train_loss = []\n",
        "val_acc = []\n",
        "val_loss = []\n",
        "epochs = []\n",
        "epoch = 1\n",
        "for entry in history:\n",
        "    epochs.append(epoch)\n",
        "    train_acc.append(entry['acc'])\n",
        "    train_loss.append(entry['loss'])\n",
        "    val_acc.append(entry['val_acc'])\n",
        "    val_loss.append(entry['val_loss'])\n",
        "    epoch += 1"
      ],
      "metadata": {
        "id": "sgWSnlX8ValN"
      },
      "execution_count": 115,
      "outputs": []
    },
    {
      "cell_type": "code",
      "source": [
        "# Plotting\n",
        "plt.figure(figsize=(10, 5))\n",
        "\n",
        "plt.subplot(1, 2, 1)\n",
        "plt.plot(epochs, train_acc, label='Training Accuracy')\n",
        "plt.plot(epochs, val_acc, label='Validation Accuracy')\n",
        "plt.title('Training and Validation Accuracy')\n",
        "plt.xlabel('Epochs')\n",
        "plt.ylabel('Accuracy')\n",
        "plt.legend()\n",
        "\n",
        "plt.subplot(1, 2, 2)\n",
        "plt.plot(epochs, train_loss, label='Training Loss')\n",
        "plt.plot(epochs, val_loss, label='Validation Loss')\n",
        "plt.title('Training and Validation Loss')\n",
        "plt.xlabel('Epochs')\n",
        "plt.ylabel('Loss')\n",
        "plt.legend()\n",
        "\n",
        "plt.tight_layout()\n",
        "plt.show()"
      ],
      "metadata": {
        "colab": {
          "base_uri": "https://localhost:8080/",
          "height": 507
        },
        "id": "oa_oImk3S1gB",
        "outputId": "b752762d-d476-44c8-ebe6-23297128c4c1"
      },
      "execution_count": 116,
      "outputs": [
        {
          "output_type": "display_data",
          "data": {
            "text/plain": [
              "<Figure size 1000x500 with 2 Axes>"
            ],
            "image/png": "[encoded data removed]"
          },
          "metadata": {}
        }
      ]
    }
  ]
}