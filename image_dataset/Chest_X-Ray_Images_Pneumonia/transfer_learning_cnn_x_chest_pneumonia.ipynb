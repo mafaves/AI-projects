{
  "nbformat": 4,
  "nbformat_minor": 0,
  "metadata": {
    "colab": {
      "provenance": [],
      "gpuType": "T4",
      "authorship_tag": "ABX9TyPrkHOaCDfz4dd10grLcwZA",
      "include_colab_link": true
    },
    "kernelspec": {
      "name": "python3",
      "display_name": "Python 3"
    },
    "language_info": {
      "name": "python"
    },
    "accelerator": "GPU"
  },
  "cells": [
    {
      "cell_type": "markdown",
      "metadata": {
        "id": "view-in-github",
        "colab_type": "text"
      },
      "source": [
        "<a href=\"https://colab.research.google.com/github/mafaves/AI-projects/blob/main/image_dataset/Chest_X-Ray_Images_Pneumonia/transfer_learning_cnn_x_chest_pneumonia.ipynb\" target=\"_parent\"><img src=\"https://colab.research.google.com/assets/colab-badge.svg\" alt=\"Open In Colab\"/></a>"
      ]
    },
    {
      "cell_type": "markdown",
      "source": [
        "# TRANSFER LEARNING\n",
        "\n",
        "https://github.com/krishnaik06/Deep-Learning-in-Medical-Science/blob/master/Lungs.py"
      ],
      "metadata": {
        "id": "XDbTrk36-er5"
      }
    },
    {
      "cell_type": "code",
      "source": [
        "import numpy as np\n",
        "import seaborn as sns\n",
        "import pandas as pd\n",
        "import matplotlib.pyplot as plt\n",
        "from sklearn.metrics import classification_report, confusion_matrix\n",
        "from glob import glob\n",
        "import zipfile\n",
        "import os\n",
        "\n",
        "#import image libraries\n",
        "import cv2\n",
        "import PIL\n",
        "\n",
        "#import tensorflow\n",
        "import tensorflow as tf\n",
        "from tensorflow.keras import layers, models\n",
        "from tensorflow.keras.metrics import TruePositives, TrueNegatives, FalsePositives, FalseNegatives\n",
        "import tensorflow as tf\n",
        "from tensorflow import keras\n",
        "from keras.layers import Input, Lambda, Dense, Flatten, Dropout\n",
        "from keras.models import Model\n",
        "from keras.applications.vgg16 import VGG16\n",
        "from keras.applications.vgg16 import preprocess_input\n",
        "from keras.preprocessing import image\n",
        "from keras.preprocessing.image import ImageDataGenerator\n",
        "from keras.models import Sequential\n"
      ],
      "metadata": {
        "id": "vTc1HbNjCdHY"
      },
      "execution_count": null,
      "outputs": []
    },
    {
      "cell_type": "markdown",
      "source": [
        "## DOWNLOADING DATA"
      ],
      "metadata": {
        "id": "wG-TUwRzMcQS"
      }
    },
    {
      "cell_type": "code",
      "execution_count": null,
      "metadata": {
        "colab": {
          "base_uri": "https://localhost:8080/"
        },
        "id": "wkyGapUoCMlH",
        "outputId": "08eee3d5-165f-4f93-e1a8-40ecb3c6e3db"
      },
      "outputs": [
        {
          "output_type": "stream",
          "name": "stdout",
          "text": [
            "Drive already mounted at /content/drive; to attempt to forcibly remount, call drive.mount(\"/content/drive\", force_remount=True).\n"
          ]
        }
      ],
      "source": [
        "from google.colab import drive\n",
        "drive.mount('/content/drive')"
      ]
    },
    {
      "cell_type": "code",
      "source": [
        "#path to the kaggle.json directory\n",
        "path_API_autentification_token= '/content/drive/MyDrive/Colab_Notebooks/master/Chest_X_Ray_Images_Pneumonia'"
      ],
      "metadata": {
        "id": "wtOIUUolClXv"
      },
      "execution_count": null,
      "outputs": []
    },
    {
      "cell_type": "code",
      "source": [
        "# Coping the kaggle API to the Google Colab\n",
        "os.environ['KAGGLE_CONFIG_DIR'] = path_API_autentification_token\n",
        "\n",
        "# Downloading the data\n",
        "!kaggle datasets download -d paultimothymooney/chest-xray-pneumonia\n",
        "\n",
        "# Unzziping the data and storing into /tmp\n",
        "zip_ref = zipfile.ZipFile('chest-xray-pneumonia.zip', 'r')\n",
        "zip_ref.extractall('/tmp')\n",
        "zip_ref.close()"
      ],
      "metadata": {
        "colab": {
          "base_uri": "https://localhost:8080/"
        },
        "id": "e2nfcLhTrohL",
        "outputId": "9b8d844f-dc7c-438b-fe93-050d4f175765"
      },
      "execution_count": null,
      "outputs": [
        {
          "output_type": "stream",
          "name": "stdout",
          "text": [
            "Downloading chest-xray-pneumonia.zip to /content\n",
            " 99% 2.28G/2.29G [00:34<00:00, 147MB/s]\n",
            "100% 2.29G/2.29G [00:34<00:00, 72.2MB/s]\n"
          ]
        }
      ]
    },
    {
      "cell_type": "code",
      "source": [
        "# Define the path to the extracted directory\n",
        "extracted_dir = '/tmp/chest_xray'\n",
        "\n",
        "# List the contents of the directory\n",
        "contents = os.listdir(extracted_dir)\n",
        "\n",
        "# Print the contents\n",
        "print(contents)"
      ],
      "metadata": {
        "id": "oSWCs-Mz_2uU",
        "colab": {
          "base_uri": "https://localhost:8080/"
        },
        "outputId": "b3034408-4919-4535-a2d2-cc49c399a0f4"
      },
      "execution_count": null,
      "outputs": [
        {
          "output_type": "stream",
          "name": "stdout",
          "text": [
            "['chest_xray', 'train', '__MACOSX', 'test', 'images', 'val']\n"
          ]
        }
      ]
    },
    {
      "cell_type": "markdown",
      "source": [
        "## DATA PREPARATION\n",
        "\n",
        "The downloaded data contain 3 main folders: 'test', 'val' and 'test'. Inside each one, there are two subcategories: 'NORMAL' and 'PNEUMONIA'.\n",
        "\n",
        " In this case, I prefer to only have two: 'NORMAL' and 'PNEUMONIA' (I prefer it in order to manage all images with tf)"
      ],
      "metadata": {
        "id": "Zf0cxB6FMgvp"
      }
    },
    {
      "cell_type": "code",
      "source": [
        "import os\n",
        "import shutil\n",
        "\n",
        "def move_files(src_path, dest_path):\n",
        "    if not os.path.exists(dest_path):\n",
        "        os.makedirs(dest_path)\n",
        "\n",
        "    for filename in os.listdir(src_path):\n",
        "        file_path = os.path.join(src_path, filename)\n",
        "        shutil.move(file_path, os.path.join(dest_path, filename))\n",
        "\n",
        "extracted_dir = '/tmp/chest_xray'\n",
        "main_folders = ['train', 'val', 'test']\n",
        "output_folders = ['NORMAL', 'PNEUMONIA']\n",
        "\n",
        "# Move files from subfolders to main folders\n",
        "for main_folder in main_folders:\n",
        "    for output_folder in output_folders:\n",
        "        move_files(os.path.join(extracted_dir, main_folder, output_folder), os.path.join(extracted_dir, output_folder))\n",
        "\n",
        "# Print the number of files in 'NORMAL' and 'PNEUMONIA' folders\n",
        "for folder_name in ['NORMAL', 'PNEUMONIA']:\n",
        "    folder_path = os.path.join(extracted_dir, folder_name)\n",
        "    file_count = len(os.listdir(folder_path))\n",
        "    print(f\"Number of files in '{folder_name}' folder: {file_count}\")\n",
        "\n",
        "# Move 'NORMAL' and 'PNEUMONIA' folders into the 'images' folder\n",
        "images_dir = os.path.join(extracted_dir, 'images')\n",
        "move_files(os.path.join(extracted_dir, 'NORMAL'), os.path.join(images_dir, 'NORMAL'))\n",
        "move_files(os.path.join(extracted_dir, 'PNEUMONIA'), os.path.join(images_dir, 'PNEUMONIA'))\n",
        "\n",
        "print(\"Folders moved successfully.\")"
      ],
      "metadata": {
        "id": "n3Nhfph8PHgb"
      },
      "execution_count": null,
      "outputs": []
    },
    {
      "cell_type": "markdown",
      "source": [
        "## PREPROCESSING IMAGES"
      ],
      "metadata": {
        "id": "h4QP2BJkNg1j"
      }
    },
    {
      "cell_type": "code",
      "source": [
        "# Define the path to the extracted directory\n",
        "extracted_dir = '/tmp/chest_xray/images'\n",
        "# List the contents of the directory\n",
        "contents = os.listdir(extracted_dir)\n",
        "\n",
        "# Print the contents\n",
        "print(contents)"
      ],
      "metadata": {
        "colab": {
          "base_uri": "https://localhost:8080/"
        },
        "id": "RXuKY4OeDxTK",
        "outputId": "7c1a4f6f-aad8-489d-9e3b-edb085036479"
      },
      "execution_count": null,
      "outputs": [
        {
          "output_type": "stream",
          "name": "stdout",
          "text": [
            "['NORMAL', 'PNEUMONIA']\n"
          ]
        }
      ]
    },
    {
      "cell_type": "code",
      "source": [
        "#Define image sizes\n",
        "BATCH_SIZE = 32\n",
        "IMAGE_SIZE = 224\n",
        "CHANNELS=3\n",
        "EPOCHS=10"
      ],
      "metadata": {
        "id": "an88cyZzDCyV"
      },
      "execution_count": null,
      "outputs": []
    },
    {
      "cell_type": "markdown",
      "source": [
        "#### LOAD DATASET"
      ],
      "metadata": {
        "id": "xuSK6qOjNn5b"
      }
    },
    {
      "cell_type": "code",
      "source": [
        "dataset = tf.keras.preprocessing.image_dataset_from_directory(\n",
        "    '/tmp/chest_xray/images',\n",
        "    #color_mode = 'grayscale',\n",
        "    seed=123,\n",
        "    shuffle=True,\n",
        "    image_size=(IMAGE_SIZE,IMAGE_SIZE),\n",
        "    batch_size=BATCH_SIZE\n",
        ")"
      ],
      "metadata": {
        "colab": {
          "base_uri": "https://localhost:8080/"
        },
        "id": "wloQshXnC5m7",
        "outputId": "722e4cf0-c1c2-4004-8662-2f9d131d03a6"
      },
      "execution_count": null,
      "outputs": [
        {
          "output_type": "stream",
          "name": "stdout",
          "text": [
            "Found 5856 files belonging to 2 classes.\n"
          ]
        }
      ]
    },
    {
      "cell_type": "code",
      "source": [
        "# Get the number of batches in the dataset\n",
        "num_batches = tf.data.experimental.cardinality(dataset).numpy()\n",
        "print(\"Number of batches:\", num_batches)"
      ],
      "metadata": {
        "colab": {
          "base_uri": "https://localhost:8080/"
        },
        "id": "Sfv1wMr8FTDk",
        "outputId": "7adaa49c-2df8-4fe6-f350-1f9466c5b4a2"
      },
      "execution_count": null,
      "outputs": [
        {
          "output_type": "stream",
          "name": "stdout",
          "text": [
            "Number of batches: 183\n"
          ]
        }
      ]
    },
    {
      "cell_type": "code",
      "source": [
        "# Print the first batch of data\n",
        "for images, labels in dataset.take(1):\n",
        "    print(\"Batch of images shape:\", images.shape)\n",
        "    print(\"Batch of labels shape:\", labels.shape)\n",
        "    print(\"Example labels:\", labels.numpy())"
      ],
      "metadata": {
        "colab": {
          "base_uri": "https://localhost:8080/"
        },
        "id": "PGd8yQBJFevO",
        "outputId": "2f26192a-4cb9-434f-c4a6-8cd2490659ec"
      },
      "execution_count": null,
      "outputs": [
        {
          "output_type": "stream",
          "name": "stdout",
          "text": [
            "Batch of images shape: (32, 224, 224, 3)\n",
            "Batch of labels shape: (32,)\n",
            "Example labels: [1 1 1 0 0 0 1 1 1 1 1 1 1 0 1 1 1 1 0 0 1 1 0 1 1 0 1 0 0 1 1 0]\n"
          ]
        }
      ]
    },
    {
      "cell_type": "code",
      "source": [
        "class_names = dataset.class_names\n",
        "class_names"
      ],
      "metadata": {
        "colab": {
          "base_uri": "https://localhost:8080/"
        },
        "id": "RmJ52822C5p7",
        "outputId": "e4a9764b-3fe9-4341-a3c1-565b6ac6c0fc"
      },
      "execution_count": null,
      "outputs": [
        {
          "output_type": "execute_result",
          "data": {
            "text/plain": [
              "['NORMAL', 'PNEUMONIA']"
            ]
          },
          "metadata": {},
          "execution_count": 15
        }
      ]
    },
    {
      "cell_type": "markdown",
      "source": [
        "### Function to Split Dataset"
      ],
      "metadata": {
        "id": "AlFJvbNNN1it"
      }
    },
    {
      "cell_type": "code",
      "source": [
        "def get_dataset_partitions_tf(ds, train_split=0.8, val_split=0.1, test_split=0.1, shuffle=True, shuffle_size=10000):\n",
        "    assert (train_split + test_split + val_split) == 1\n",
        "\n",
        "    ds_size = len(ds)\n",
        "\n",
        "    if shuffle:\n",
        "        ds = ds.shuffle(shuffle_size, seed=12)\n",
        "\n",
        "    train_size = int(train_split * ds_size)\n",
        "    val_size = int(val_split * ds_size)\n",
        "\n",
        "    train_ds = ds.take(train_size)\n",
        "    val_ds = ds.skip(train_size).take(val_size)\n",
        "    test_ds = ds.skip(train_size).skip(val_size)\n",
        "\n",
        "    return train_ds, val_ds, test_ds"
      ],
      "metadata": {
        "id": "H7iBNK4BELSl"
      },
      "execution_count": null,
      "outputs": []
    },
    {
      "cell_type": "code",
      "source": [
        "train_ds, val_ds, test_ds = get_dataset_partitions_tf(dataset)"
      ],
      "metadata": {
        "id": "92fY4e5TELVE"
      },
      "execution_count": null,
      "outputs": []
    },
    {
      "cell_type": "code",
      "source": [
        "train_ds = train_ds.cache().shuffle(1000).prefetch(buffer_size=tf.data.AUTOTUNE)\n",
        "val_ds = val_ds.cache().shuffle(1000).prefetch(buffer_size=tf.data.AUTOTUNE)\n",
        "test_ds = test_ds.cache().shuffle(1000).prefetch(buffer_size=tf.data.AUTOTUNE)"
      ],
      "metadata": {
        "id": "iK8-EFLhELed"
      },
      "execution_count": null,
      "outputs": []
    },
    {
      "cell_type": "markdown",
      "source": [
        "## BUILDING MODEL"
      ],
      "metadata": {
        "id": "I8msLtmk-mbA"
      }
    },
    {
      "cell_type": "code",
      "source": [
        "# re-size all the images to this\n",
        "IMAGE_SIZE = [224, 224]\n"
      ],
      "metadata": {
        "id": "QubPLARz7FZy"
      },
      "execution_count": null,
      "outputs": []
    },
    {
      "cell_type": "code",
      "source": [
        "# add preprocessing layer to the front of VGG\n",
        "vgg = VGG16(input_shape=IMAGE_SIZE + [3], weights='imagenet', include_top=False)\n",
        "\n",
        "# don't train existing weights\n",
        "for layer in vgg.layers:\n",
        "  layer.trainable = False"
      ],
      "metadata": {
        "id": "CzNsvdmJ7FdE"
      },
      "execution_count": null,
      "outputs": []
    },
    {
      "cell_type": "code",
      "source": [
        "# our layers - you can add more if you want\n",
        "x = Flatten()(vgg.output)\n",
        "x = Dense(256, activation='relu')(x)\n",
        "x = Dropout(0.2)(x)\n",
        "prediction = Dense(1, activation='sigmoid')(x)"
      ],
      "metadata": {
        "id": "8Z6Zi6mz7Fgn"
      },
      "execution_count": null,
      "outputs": []
    },
    {
      "cell_type": "code",
      "source": [
        "# create a model object\n",
        "model = Model(inputs=vgg.input, outputs=prediction)\n",
        "\n",
        "# view the structure of the model\n",
        "model.summary()\n"
      ],
      "metadata": {
        "colab": {
          "base_uri": "https://localhost:8080/"
        },
        "id": "MU61Vlgz9Ug8",
        "outputId": "3fb2ab45-3f43-4b0e-ce86-cb9bcc0650e1"
      },
      "execution_count": null,
      "outputs": [
        {
          "output_type": "stream",
          "name": "stdout",
          "text": [
            "Model: \"model\"\n",
            "_________________________________________________________________\n",
            " Layer (type)                Output Shape              Param #   \n",
            "=================================================================\n",
            " input_1 (InputLayer)        [(None, 224, 224, 3)]     0         \n",
            "                                                                 \n",
            " block1_conv1 (Conv2D)       (None, 224, 224, 64)      1792      \n",
            "                                                                 \n",
            " block1_conv2 (Conv2D)       (None, 224, 224, 64)      36928     \n",
            "                                                                 \n",
            " block1_pool (MaxPooling2D)  (None, 112, 112, 64)      0         \n",
            "                                                                 \n",
            " block2_conv1 (Conv2D)       (None, 112, 112, 128)     73856     \n",
            "                                                                 \n",
            " block2_conv2 (Conv2D)       (None, 112, 112, 128)     147584    \n",
            "                                                                 \n",
            " block2_pool (MaxPooling2D)  (None, 56, 56, 128)       0         \n",
            "                                                                 \n",
            " block3_conv1 (Conv2D)       (None, 56, 56, 256)       295168    \n",
            "                                                                 \n",
            " block3_conv2 (Conv2D)       (None, 56, 56, 256)       590080    \n",
            "                                                                 \n",
            " block3_conv3 (Conv2D)       (None, 56, 56, 256)       590080    \n",
            "                                                                 \n",
            " block3_pool (MaxPooling2D)  (None, 28, 28, 256)       0         \n",
            "                                                                 \n",
            " block4_conv1 (Conv2D)       (None, 28, 28, 512)       1180160   \n",
            "                                                                 \n",
            " block4_conv2 (Conv2D)       (None, 28, 28, 512)       2359808   \n",
            "                                                                 \n",
            " block4_conv3 (Conv2D)       (None, 28, 28, 512)       2359808   \n",
            "                                                                 \n",
            " block4_pool (MaxPooling2D)  (None, 14, 14, 512)       0         \n",
            "                                                                 \n",
            " block5_conv1 (Conv2D)       (None, 14, 14, 512)       2359808   \n",
            "                                                                 \n",
            " block5_conv2 (Conv2D)       (None, 14, 14, 512)       2359808   \n",
            "                                                                 \n",
            " block5_conv3 (Conv2D)       (None, 14, 14, 512)       2359808   \n",
            "                                                                 \n",
            " block5_pool (MaxPooling2D)  (None, 7, 7, 512)         0         \n",
            "                                                                 \n",
            " flatten (Flatten)           (None, 25088)             0         \n",
            "                                                                 \n",
            " dense (Dense)               (None, 256)               6422784   \n",
            "                                                                 \n",
            " dropout (Dropout)           (None, 256)               0         \n",
            "                                                                 \n",
            " dense_1 (Dense)             (None, 1)                 257       \n",
            "                                                                 \n",
            "=================================================================\n",
            "Total params: 21137729 (80.63 MB)\n",
            "Trainable params: 6423041 (24.50 MB)\n",
            "Non-trainable params: 14714688 (56.13 MB)\n",
            "_________________________________________________________________\n"
          ]
        }
      ]
    },
    {
      "cell_type": "code",
      "source": [
        "# tell the model what cost and optimization method to use\n",
        "model.compile(\n",
        "  loss='binary_crossentropy',\n",
        "  optimizer='adam',\n",
        "  metrics=['accuracy']\n",
        ")\n",
        "# fit the model\n",
        "r = model.fit_generator(\n",
        "  train_ds,\n",
        "  validation_data=val_ds,\n",
        "  epochs=5,\n",
        "  #steps_per_epoch=20,\n",
        "  #validation_steps=5\n",
        ")"
      ],
      "metadata": {
        "id": "NiWP9fGH7Z_W",
        "colab": {
          "base_uri": "https://localhost:8080/"
        },
        "outputId": "35482488-1119-4e3f-d161-96a0a6a388a2"
      },
      "execution_count": null,
      "outputs": [
        {
          "output_type": "stream",
          "name": "stdout",
          "text": [
            "Epoch 1/5\n"
          ]
        },
        {
          "output_type": "stream",
          "name": "stderr",
          "text": [
            "<ipython-input-23-1ccab3b39c39>:8: UserWarning: `Model.fit_generator` is deprecated and will be removed in a future version. Please use `Model.fit`, which supports generators.\n",
            "  r = model.fit_generator(\n"
          ]
        },
        {
          "output_type": "stream",
          "name": "stdout",
          "text": [
            "146/146 [==============================] - 111s 401ms/step - loss: 2.5313 - accuracy: 0.9292 - val_loss: 0.1065 - val_accuracy: 0.9583\n",
            "Epoch 2/5\n",
            "146/146 [==============================] - 19s 131ms/step - loss: 0.0943 - accuracy: 0.9670 - val_loss: 0.0851 - val_accuracy: 0.9566\n",
            "Epoch 3/5\n",
            "146/146 [==============================] - 20s 136ms/step - loss: 0.0638 - accuracy: 0.9765 - val_loss: 0.0447 - val_accuracy: 0.9826\n",
            "Epoch 4/5\n",
            "146/146 [==============================] - 20s 134ms/step - loss: 0.0489 - accuracy: 0.9807 - val_loss: 0.0648 - val_accuracy: 0.9774\n",
            "Epoch 5/5\n",
            "146/146 [==============================] - 20s 138ms/step - loss: 0.0317 - accuracy: 0.9878 - val_loss: 0.0346 - val_accuracy: 0.9913\n"
          ]
        }
      ]
    },
    {
      "cell_type": "code",
      "source": [
        "# loss\n",
        "plt.plot(r.history['loss'], label='train loss')\n",
        "plt.plot(r.history['val_loss'], label='val loss')\n",
        "plt.legend()\n",
        "plt.show()\n",
        "plt.savefig('LossVal_loss')\n"
      ],
      "metadata": {
        "id": "fYPsIdFg7aCb",
        "colab": {
          "base_uri": "https://localhost:8080/",
          "height": 447
        },
        "outputId": "22b3592e-7865-427e-86aa-88a17b2e446f"
      },
      "execution_count": null,
      "outputs": [
        {
          "output_type": "display_data",
          "data": {
            "text/plain": [
              "<Figure size 640x480 with 1 Axes>"
            ],
            "image/png": "[encoded data removed]"
          },
          "metadata": {}
        },
        {
          "output_type": "display_data",
          "data": {
            "text/plain": [
              "<Figure size 640x480 with 0 Axes>"
            ]
          },
          "metadata": {}
        }
      ]
    },
    {
      "cell_type": "code",
      "source": [
        "# accuracies\n",
        "plt.plot(r.history['accuracy'], label='train acc')\n",
        "plt.plot(r.history['val_accuracy'], label='val acc')\n",
        "plt.legend()\n",
        "plt.show()\n",
        "plt.savefig('AccVal_acc')"
      ],
      "metadata": {
        "id": "cczh6U207aFh",
        "colab": {
          "base_uri": "https://localhost:8080/",
          "height": 447
        },
        "outputId": "18d8fbd3-4e7a-4608-f84b-dc8d393c5f7f"
      },
      "execution_count": null,
      "outputs": [
        {
          "output_type": "display_data",
          "data": {
            "text/plain": [
              "<Figure size 640x480 with 1 Axes>"
            ],
            "image/png": "[encoded data removed]"
          },
          "metadata": {}
        },
        {
          "output_type": "display_data",
          "data": {
            "text/plain": [
              "<Figure size 640x480 with 0 Axes>"
            ]
          },
          "metadata": {}
        }
      ]
    },
    {
      "cell_type": "markdown",
      "source": [
        "#### Classification report"
      ],
      "metadata": {
        "id": "RGJlAEaUqSve"
      }
    },
    {
      "cell_type": "code",
      "source": [
        "# Make sure you haven't overwritten the classification_report function\n",
        "from sklearn.metrics import classification_report"
      ],
      "metadata": {
        "id": "8yM2MEd62QaF"
      },
      "execution_count": null,
      "outputs": []
    },
    {
      "cell_type": "code",
      "source": [
        "# Mendefinisikan fungsi untuk membuat prediksi\n",
        "def predict_and_evaluate(model, dataset):\n",
        "    y_true = []  # Label yang sebenarnya\n",
        "    y_pred = []  # Label hasil prediksi\n",
        "\n",
        "    # Iterasi melalui dataset untuk mendapatkan label sebenarnya dan hasil prediksi\n",
        "    for image, label in dataset:\n",
        "        predictions = model.predict(image,verbose=0)\n",
        "        y_true.extend(label.numpy())\n",
        "        y_pred.extend(np.round(predictions).flatten())\n",
        "\n",
        "    # Menghasilkan classification report\n",
        "    report = classification_report(y_true, y_pred, target_names=['normal', 'pneumonia'])\n",
        "\n",
        "    return report"
      ],
      "metadata": {
        "id": "o95ja1ljp0fi"
      },
      "execution_count": null,
      "outputs": []
    },
    {
      "cell_type": "code",
      "source": [
        "# Membuat classification report\n",
        "classification_report = predict_and_evaluate(model, test_ds)\n",
        "\n",
        "# Menampilkan classification report\n",
        "print(classification_report)"
      ],
      "metadata": {
        "id": "eKpkM7NDp0iR",
        "colab": {
          "base_uri": "https://localhost:8080/"
        },
        "outputId": "f9b37b4f-5293-42af-e419-132deb39b881"
      },
      "execution_count": null,
      "outputs": [
        {
          "output_type": "stream",
          "name": "stdout",
          "text": [
            "              precision    recall  f1-score   support\n",
            "\n",
            "      normal       0.96      0.98      0.97       173\n",
            "   pneumonia       0.99      0.98      0.99       435\n",
            "\n",
            "    accuracy                           0.98       608\n",
            "   macro avg       0.98      0.98      0.98       608\n",
            "weighted avg       0.98      0.98      0.98       608\n",
            "\n"
          ]
        }
      ]
    },
    {
      "cell_type": "markdown",
      "source": [
        "#### Confusion matrix"
      ],
      "metadata": {
        "id": "joKm89fXqVWd"
      }
    },
    {
      "cell_type": "code",
      "source": [
        "def calculate_confusion_matrix(model, dataset):\n",
        "    y_true = []  # Label yang sebenarnya\n",
        "    y_pred = []  # Label hasil prediksi\n",
        "\n",
        "    # Iterasi melalui dataset untuk mendapatkan label sebenarnya dan hasil prediksi\n",
        "    for image, label in dataset:\n",
        "        predictions = model.predict(image,verbose=0)\n",
        "        y_true.extend(label.numpy())\n",
        "        y_pred.extend(np.round(predictions).flatten())\n",
        "\n",
        "    # Menghitung confusion matrix\n",
        "    conf_matrix = confusion_matrix(y_true, y_pred)\n",
        "\n",
        "    #Plot confusion_matrix\n",
        "    plt.figure(figsize=(8, 6))\n",
        "    sns.heatmap(conf_matrix, annot=True, fmt=\"d\", cmap=\"Blues\",\n",
        "                xticklabels=['Normal', 'Pneumonia'],\n",
        "                yticklabels=['Normal', 'Pneumonia'])\n",
        "    plt.title('Confusion Matrix')\n",
        "    plt.xlabel('Predicted Label')\n",
        "    plt.ylabel('True Label')\n",
        "    plt.show()\n",
        "\n",
        "    # Ekstraksi TP, FP, TN, FN\n",
        "    #gunakan ravel() atau flatten() untuk mendapatkan array satu dimensi\n",
        "    tn, fp, fn, tp = conf_matrix.ravel()\n",
        "    #tp = conf_matrix[1, 1]\n",
        "    #p = conf_matrix[0, 1]\n",
        "    #tn = conf_matrix[0, 0]\n",
        "    #fn = conf_matrix[1, 0]\n",
        "\n",
        "    return tp, fp, tn, fn"
      ],
      "metadata": {
        "id": "5oUBk7x7p0lA"
      },
      "execution_count": null,
      "outputs": []
    },
    {
      "cell_type": "code",
      "source": [
        "# Menghitung confusion matrix dari model terload dan dataset test\n",
        "tp, fp, tn, fn = calculate_confusion_matrix(model, test_ds)\n",
        "\n",
        "# Menampilkan hasil\n",
        "print(\"True Positive (TP):\", tp)\n",
        "print(\"False Positive (FP):\", fp)\n",
        "print(\"True Negative (TN):\", tn)\n",
        "print(\"False Negative (FN):\", fn)"
      ],
      "metadata": {
        "id": "zi0e-Wb1qbNW",
        "colab": {
          "base_uri": "https://localhost:8080/",
          "height": 633
        },
        "outputId": "29a6e667-452c-414b-f05c-218439429f37"
      },
      "execution_count": null,
      "outputs": [
        {
          "output_type": "display_data",
          "data": {
            "text/plain": [
              "<Figure size 800x600 with 2 Axes>"
            ],
            "image/png": "[encoded data removed]"
          },
          "metadata": {}
        },
        {
          "output_type": "stream",
          "name": "stdout",
          "text": [
            "True Positive (TP): 428\n",
            "False Positive (FP): 3\n",
            "True Negative (TN): 170\n",
            "False Negative (FN): 7\n"
          ]
        }
      ]
    }
  ]
}